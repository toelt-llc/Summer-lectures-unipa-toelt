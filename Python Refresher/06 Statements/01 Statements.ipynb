{
 "cells": [
  {
   "cell_type": "markdown",
   "metadata": {},
   "source": [
    "# Statements"
   ]
  },
  {
   "cell_type": "markdown",
   "metadata": {},
   "source": [
    "A statement in Python comprises one line\n",
    "\n",
    "Technically you can write several statements separated by \";\" in one line - don't, almost always bad style"
   ]
  },
  {
   "cell_type": "code",
   "execution_count": 2,
   "metadata": {},
   "outputs": [
    {
     "name": "stdout",
     "output_type": "stream",
     "text": [
      "1 2 3\n"
     ]
    }
   ],
   "source": [
    "a = 1\n",
    "b = 2; c = 3   # avoid!\n",
    "print(a, b, c)\n"
   ]
  },
  {
   "cell_type": "markdown",
   "metadata": {},
   "source": [
    "# Comments"
   ]
  },
  {
   "cell_type": "code",
   "execution_count": 3,
   "metadata": {},
   "outputs": [],
   "source": [
    "# This line is a comment and is not interpreted so nothing happens\n"
   ]
  },
  {
   "cell_type": "code",
   "execution_count": 4,
   "metadata": {},
   "outputs": [
    {
     "data": {
      "text/plain": [
       "'\\nThis block is a \"multiline comment\"\\n\\nTechnically, this is a `string` without reference and is ignored by the interpreter\\n'"
      ]
     },
     "execution_count": 4,
     "metadata": {},
     "output_type": "execute_result"
    }
   ],
   "source": [
    "'''\n",
    "This block is a \"multiline comment\"\n",
    "\n",
    "Technically, this is a `string` without reference and is ignored by the interpreter\n",
    "'''\n"
   ]
  },
  {
   "cell_type": "markdown",
   "metadata": {},
   "source": [
    "# Conditions"
   ]
  },
  {
   "cell_type": "markdown",
   "metadata": {},
   "source": [
    "Conditions allow to control the flow of the program. This allows us to decide how we want to react to information that we only receive at runtime (e.g. the user's name). \n",
    "\n",
    "In Python, this is expressed with the `if` statement followed by a logical expression:\n",
    "```\n",
    "if condition:\n",
    "    then_do_something()\n",
    "```"
   ]
  },
  {
   "cell_type": "code",
   "execution_count": 5,
   "metadata": {},
   "outputs": [],
   "source": [
    "x = 42\n"
   ]
  },
  {
   "cell_type": "code",
   "execution_count": 9,
   "metadata": {},
   "outputs": [
    {
     "name": "stdout",
     "output_type": "stream",
     "text": [
      "x is less than 100\n",
      "hello\n"
     ]
    }
   ],
   "source": [
    "if x < 100:\n",
    "    print(\"x is less than 100\")\n"
   ]
  },
  {
   "cell_type": "markdown",
   "metadata": {},
   "source": [
    "The `print` statement is **indented**. We always use 4 spaces for this (set your editor accordingly).\n",
    "\n",
    "Why indent? This is Python's way of \"marking\" the lines to be executed if the condition is met."
   ]
  },
  {
   "cell_type": "code",
   "execution_count": null,
   "metadata": {},
   "outputs": [],
   "source": [
    "x = 42\n",
    "if x < 100:\n",
    "    print(\"x is less than 100\")\n",
    "print(\"Fourth line reached\")\n"
   ]
  },
  {
   "cell_type": "code",
   "execution_count": 10,
   "metadata": {},
   "outputs": [
    {
     "name": "stdout",
     "output_type": "stream",
     "text": [
      "Fourth line reached\n"
     ]
    }
   ],
   "source": [
    "x = 110\n",
    "if x < 100:\n",
    "    print(\"x is less than 100\")\n",
    "print(\"Fourth line reached\")\n"
   ]
  },
  {
   "cell_type": "markdown",
   "metadata": {},
   "source": [
    "# Example 1\n",
    "Exam with max. 100 points, from 60 points you have passed\n",
    "\n",
    "Goal: Output whether the candidate has passed"
   ]
  },
  {
   "cell_type": "code",
   "execution_count": 11,
   "metadata": {},
   "outputs": [],
   "source": [
    "score = 75\n"
   ]
  },
  {
   "cell_type": "markdown",
   "metadata": {},
   "source": [
    "### First Attempt"
   ]
  },
  {
   "cell_type": "code",
   "execution_count": 12,
   "metadata": {},
   "outputs": [
    {
     "name": "stdout",
     "output_type": "stream",
     "text": [
      "You have passed!\n"
     ]
    }
   ],
   "source": [
    "if score < 60:\n",
    "    print(\"Unfortunately, you failed\")\n",
    "\n",
    "if score >= 60:\n",
    "    print(\"You have passed!\")\n"
   ]
  },
  {
   "cell_type": "markdown",
   "metadata": {},
   "source": [
    "### Second Attempt: Improve Readability\n",
    "\n",
    "Observation: The two possible cases are mutually exclusive. \n",
    "\n",
    "In words: With less than 60 you have not passed. **Otherwise** you have passed."
   ]
  },
  {
   "cell_type": "code",
   "execution_count": 13,
   "metadata": {},
   "outputs": [
    {
     "name": "stdout",
     "output_type": "stream",
     "text": [
      "You have passed!\n"
     ]
    }
   ],
   "source": [
    "if score < 60:\n",
    "    print(\"Unfortunately, you failed\")\n",
    "else:\n",
    "    print(\"You have passed!\")\n"
   ]
  },
  {
   "cell_type": "markdown",
   "metadata": {},
   "source": [
    "# Example 2"
   ]
  },
  {
   "cell_type": "markdown",
   "metadata": {},
   "source": [
    "Refinement: From 95 points you have passed \"with distinction\" "
   ]
  },
  {
   "cell_type": "code",
   "execution_count": 14,
   "metadata": {},
   "outputs": [],
   "source": [
    "score = 98\n"
   ]
  },
  {
   "cell_type": "markdown",
   "metadata": {},
   "source": [
    "### First Attempt"
   ]
  },
  {
   "cell_type": "code",
   "execution_count": 15,
   "metadata": {},
   "outputs": [
    {
     "name": "stdout",
     "output_type": "stream",
     "text": [
      "Congratulations on your excellent result!\n"
     ]
    }
   ],
   "source": [
    "if score < 60:\n",
    "    print(\"Unfortunately, you failed\")\n",
    "else:\n",
    "    if score < 95:\n",
    "        print(\"You have passed!\")\n",
    "    else:\n",
    "        print(\"Congratulations on your excellent result!\")\n"
   ]
  },
  {
   "cell_type": "markdown",
   "metadata": {},
   "source": [
    "### Second Attempt\n",
    "The above block is rather difficult to read and not very maintenance-friendly.  \n",
    "\n",
    "A further keyword allowed in the `if` block provides a solution: `elif`, short for \"else if\""
   ]
  },
  {
   "cell_type": "code",
   "execution_count": 16,
   "metadata": {},
   "outputs": [
    {
     "name": "stdout",
     "output_type": "stream",
     "text": [
      "Congratulations on your excellent result!\n"
     ]
    }
   ],
   "source": [
    "if score < 60:\n",
    "    print(\"Unfortunately, you failed\")\n",
    "elif score < 95:\n",
    "    print(\"You have passed!\")\n",
    "else:\n",
    "    print(\"Congratulations on your excellent result!\")\n"
   ]
  },
  {
   "cell_type": "markdown",
   "metadata": {},
   "source": [
    "### Expandable and easy to read"
   ]
  },
  {
   "cell_type": "code",
   "execution_count": null,
   "metadata": {},
   "outputs": [],
   "source": [
    "score = 62\n",
    "\n",
    "if score < 60:\n",
    "    print(\"Unfortunately, you failed\")\n",
    "elif score < 70:\n",
    "    print(\"You have passed.\")\n",
    "elif score < 80:\n",
    "    print(\"You have achieved a good result.\")\n",
    "elif score < 95:\n",
    "    print(\"You have achieved a very good result!\")\n",
    "else:\n",
    "    print(\"Congratulations on your excellent result!\")\n"
   ]
  },
  {
   "cell_type": "markdown",
   "metadata": {},
   "source": [
    "# Practical Tip"
   ]
  },
  {
   "cell_type": "markdown",
   "metadata": {},
   "source": [
    "`pass` in Python is a placeholder that does nothing.\n",
    "\n",
    "Useful in the typical process:\n",
    "* Step 1: Write the rough structure of the code and use `pass` as a placeholder\n",
    "* Step 2: Replace `pass` with real functionality\n",
    "\n",
    "Without `pass`, the code is syntactically invalid, which may impair editor tooling"
   ]
  },
  {
   "cell_type": "code",
   "execution_count": null,
   "metadata": {},
   "outputs": [],
   "source": [
    "# Step 1\n",
    "x = 42\n",
    "if x < 100:\n",
    "    print(\"\")\n",
    "elif x < 1000:\n",
    "    print(\"sldkf\")\n",
    "x += 2\n",
    "print(\"x is\", x)\n"
   ]
  },
  {
   "cell_type": "code",
   "execution_count": null,
   "metadata": {},
   "outputs": [],
   "source": [
    "# Step 2\n",
    "x = 42\n",
    "if x < 100:\n",
    "    print(\"Oh yes, x is less than 100.\")\n",
    "x += 2\n",
    "print(\"x is\", x)\n"
   ]
  }
 ],
 "metadata": {
  "kernelspec": {
   "display_name": "Python 3",
   "language": "python",
   "name": "python3"
  },
  "language_info": {
   "codemirror_mode": {
    "name": "ipython",
    "version": 3
   },
   "file_extension": ".py",
   "mimetype": "text/x-python",
   "name": "python",
   "nbconvert_exporter": "python",
   "pygments_lexer": "ipython3",
   "version": "3.11.5"
  }
 },
 "nbformat": 4,
 "nbformat_minor": 4
}
