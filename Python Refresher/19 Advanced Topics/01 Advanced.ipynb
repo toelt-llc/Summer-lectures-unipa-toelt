{
 "cells": [
  {
   "cell_type": "markdown",
   "metadata": {},
   "source": [
    "# Advanced topics"
   ]
  },
  {
   "cell_type": "markdown",
   "metadata": {},
   "source": [
    "### Inspiration where to go from here\n",
    "We've seen a lot but also left out a lot:\n",
    "- Multithreading and Multiprocessing\n",
    "- Decorators and Metaclasses\n",
    "- Coroutines and asyncio\n",
    "- Advanced Object-Oriented Programming (OOP)\n",
    "- Advanced Exception Handling\n",
    "- Memory Management and Garbage Collection\n",
    "- Global Interpreter Lock (GIL)\n",
    "- C API and writing Python extensions\n",
    "- Web Frameworks (Django, Flask, FastAPI)\n",
    "- Testing Frameworks (unittest, pytest)\n",
    "- Code Profiling and Optimization\n",
    "- Design Patterns\n",
    "- Packaging and Distribution (setuptools, pip)\n",
    "- Regular Expressions\n",
    "- GUI Programming (Tkinter, PyQt)\n",
    "- Advanced Data Structures and Algorithms\n",
    "- Database Access and Interaction\n",
    "- Networking and Sockets\n",
    "- Cryptography and Security\n"
   ]
  },
  {
   "cell_type": "markdown",
   "metadata": {},
   "source": [
    "### A few noteworthy books\n",
    "\n",
    "* \"Fluent Python: Clear, Concise, and Effective Programming\" by Luciano Ramalho\n",
    "* \"Python Cookbook\" by David Beazley and Brian K. Jones\n",
    "* \"Effective Python: 90 Specific Ways to Write Better Python\" by Brett Slatkin\n",
    "* \"Python for Data Analysis\" by Wes McKinney\n",
    "* \"Python Machine Learning\" by Sebastian Raschka and Vahid Mirjalili"
   ]
  },
  {
   "cell_type": "markdown",
   "metadata": {},
   "source": []
  }
 ],
 "metadata": {
  "language_info": {
   "name": "python"
  }
 },
 "nbformat": 4,
 "nbformat_minor": 2
}
