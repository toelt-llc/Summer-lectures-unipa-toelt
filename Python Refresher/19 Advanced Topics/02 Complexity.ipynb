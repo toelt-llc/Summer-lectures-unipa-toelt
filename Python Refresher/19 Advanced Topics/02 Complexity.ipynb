{
 "cells": [
  {
   "cell_type": "markdown",
   "metadata": {},
   "source": [
    "# Computational complexity in a nutshell"
   ]
  },
  {
   "cell_type": "markdown",
   "metadata": {},
   "source": [
    "Computational Complexity measures efficiency of algorithms w.r.t. running time and space requirements and hence quantifies amount of resources an algorithm needs to solve a particular problem\n",
    "\n",
    "Big-O notation: Describes worst-case scenario, or the maximum amount of time or space an algorithm will require to solve a problem of size $n$\n",
    "\n",
    "### Time Complexity\n",
    "Measures amount of time an algorithm takes to run for a problem if size $n$\n",
    "* Expressed using Big-O notation, i.e. the required  time in the worst-case scenario\n",
    "* Example: Linear search through a list of $n$ elements has time complexity $O(n)$\n",
    "\n",
    "### Space Complexity\n",
    "Like time complexity, \n",
    "* Expressed using Big-O notation, i.e. the required amount of memory required in the worst-case scenario\n",
    "* For example, an algorithm creating a list of size $n$ has a space complexity of $O(n)$\n",
    "\n",
    "### Common naming\n",
    "Common Big-O notations and their names:\n",
    "\n",
    "- $O(1)$: Constant time\n",
    "- $O(\\log n)$: Logarithmic time\n",
    "- $O(n)$: Linear time\n",
    "- $O(n \\log n)$: Linearithmic time\n",
    "- $O(n^2)$: Quadratic time\n",
    "- $O(n^3)$: Cubic time\n",
    "- $O(2^n)$: Exponential time\n",
    "- $O(n!)$: Factorial time\n",
    "\n",
    "For example, for an algorithm sorting a list of integers, $n$ is the number of integers in the list\n",
    "\n",
    "### Complexities of Python data structures\n",
    "https://wiki.python.org/moin/TimeComplexity"
   ]
  },
  {
   "cell_type": "markdown",
   "metadata": {},
   "source": []
  }
 ],
 "metadata": {
  "language_info": {
   "name": "python"
  }
 },
 "nbformat": 4,
 "nbformat_minor": 2
}
