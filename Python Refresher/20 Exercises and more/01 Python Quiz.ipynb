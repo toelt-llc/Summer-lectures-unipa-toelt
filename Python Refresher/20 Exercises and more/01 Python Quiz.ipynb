{
 "cells": [
  {
   "cell_type": "markdown",
   "metadata": {},
   "source": [
    "### Python Quiz (Intermediate)\n"
   ]
  },
  {
   "cell_type": "markdown",
   "metadata": {},
   "source": [
    "##### Quiz 1\n",
    "What will be the output of the following code block?\n",
    "\n",
    "```python\n",
    "    def extend_list(val, list=[]):\n",
    "        list.append(val)\n",
    "        return list\n",
    "\n",
    "    xs1 = extend_list(10)\n",
    "    xs2 = extend_list(123,[])\n",
    "    xs3 = extend_list('a')\n",
    "\n",
    "    print(\"list1:\", xs1)\n",
    "    print(\"list2:\", xs2)\n",
    "    print(\"list3:\", xs3)\n",
    "```\n",
    "\n",
    "Your answer:\n",
    "\n",
    "```\n",
    "    list1: [...]\n",
    "    list2: [...]\n",
    "    list3: [...]\n",
    "```\n"
   ]
  },
  {
   "cell_type": "code",
   "execution_count": 9,
   "metadata": {},
   "outputs": [],
   "source": [
    "# Paste the above code and see for yourself\n"
   ]
  },
  {
   "cell_type": "markdown",
   "metadata": {},
   "source": [
    "---\n",
    "\n",
    "##### Quiz 2\n",
    "\n",
    "What will be the output of the following code block?\n",
    "\n",
    "```python\n",
    "    def multipliers():\n",
    "        return [lambda x : i * x for i in range(4)]\n",
    "\n",
    "    print([m(2) for m in multipliers()])\n",
    "```\n",
    "\n",
    "Your answer:\n",
    "\n",
    "```\n",
    "    [...]\n",
    "```\n"
   ]
  },
  {
   "cell_type": "code",
   "execution_count": 10,
   "metadata": {},
   "outputs": [],
   "source": [
    "# Paste the above code and see for yourself\n"
   ]
  },
  {
   "cell_type": "markdown",
   "metadata": {},
   "source": [
    "---\n",
    "\n",
    "##### Quiz 3\n",
    "\n",
    "What will be the output of the following code block?\n",
    "\n",
    "```python\n",
    "    class Parent(object):\n",
    "        x = 1\n",
    "\n",
    "    class Child1(Parent):\n",
    "        pass\n",
    "\n",
    "    class Child2(Parent):\n",
    "        pass\n",
    "\n",
    "    print(Parent.x, Child1.x, Child2.x)\n",
    "\n",
    "    Child1.x = 2\n",
    "    print(Parent.x, Child1.x, Child2.x)\n",
    "\n",
    "    Parent.x = 3\n",
    "    print(Parent.x, Child1.x, Child2.x)\n",
    "```\n",
    "\n",
    "Your answer:\n",
    "\n",
    "```\n",
    "    ? ? ?\n",
    "    ? ? ?\n",
    "    ? ? ?\n",
    "```\n"
   ]
  },
  {
   "cell_type": "code",
   "execution_count": 2,
   "metadata": {},
   "outputs": [],
   "source": [
    "# Paste the above code and see for yourself\n"
   ]
  },
  {
   "cell_type": "markdown",
   "metadata": {},
   "source": [
    "---\n",
    "##### Quiz 4\n",
    "What will be the output of the following code block?\n",
    "\n",
    "```python\n",
    "    xs = [ [] ] * 5\n",
    "    print(xs)\n",
    "\n",
    "    xs[0].append(10)\n",
    "    print(xs)\n",
    "\n",
    "    xs[1].append(20)\n",
    "    print(xs)\n",
    "\n",
    "    xs.append(30)\n",
    "    print(xs)\n",
    "```\n",
    "\n",
    "Your answer:\n",
    "\n",
    "```\n",
    "    [...]\n",
    "    [...]\n",
    "    [...]\n",
    "    [...]\n",
    "```\n"
   ]
  },
  {
   "cell_type": "code",
   "execution_count": null,
   "metadata": {},
   "outputs": [],
   "source": [
    "# Paste the above code and see for yourself\n"
   ]
  },
  {
   "cell_type": "markdown",
   "metadata": {},
   "source": [
    "---\n",
    "\n",
    "##### Quiz 5\n",
    "\n",
    "Given a list `xs` of numbers, use a single list comprehension to produce a new list that only contains those values that are even numbers and had even indices in the original list.\n",
    "\n",
    "For example, if xs[2] contains an even value, that value should be included in the new list, since it is also at an even index (i.e., 2) in the original list. However, if xs[3] contains an even number, that number should not be included in the new list since it is at an odd index (i.e., 3) in the original list.\n"
   ]
  }
 ],
 "metadata": {
  "kernelspec": {
   "display_name": "ml2",
   "language": "python",
   "name": "python3"
  },
  "language_info": {
   "codemirror_mode": {
    "name": "ipython",
    "version": 3
   },
   "file_extension": ".py",
   "mimetype": "text/x-python",
   "name": "python",
   "nbconvert_exporter": "python",
   "pygments_lexer": "ipython3",
   "version": "3.11.5"
  }
 },
 "nbformat": 4,
 "nbformat_minor": 2
}
