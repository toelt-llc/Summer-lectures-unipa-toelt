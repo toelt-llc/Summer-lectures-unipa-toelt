{
 "cells": [
  {
   "cell_type": "markdown",
   "metadata": {},
   "source": [
    "# Monty Hall Problem\n"
   ]
  },
  {
   "cell_type": "markdown",
   "metadata": {},
   "source": [
    "### Demo\n",
    "\n",
    "Game demo: [Monty Hall Problem Simulator](https://montyhall.io/)\n"
   ]
  },
  {
   "cell_type": "markdown",
   "metadata": {},
   "source": [
    "### Our own simulation"
   ]
  },
  {
   "cell_type": "code",
   "execution_count": null,
   "metadata": {},
   "outputs": [],
   "source": [
    "import random\n"
   ]
  },
  {
   "cell_type": "code",
   "execution_count": null,
   "metadata": {},
   "outputs": [],
   "source": [
    "def play_game(switch):\n",
    "    # pick random door\n",
    "    choice = random.randint(1, 3)\n",
    "\n",
    "    if switch:\n",
    "        # reveal a goat at random\n",
    "        revealed_door = random.choice(tuple({2, 3} - {choice}))\n",
    "\n",
    "        # make the switch\n",
    "        choice = ({1, 2, 3} - {revealed_door, choice}).pop()\n",
    "\n",
    "    # WLOG, car is always behind door 1\n",
    "    return choice == 1\n"
   ]
  },
  {
   "cell_type": "code",
   "execution_count": null,
   "metadata": {},
   "outputs": [],
   "source": [
    "def play_batch(n_games, switch):\n",
    "    return sum(play_game(switch) for _ in range(n_games))\n"
   ]
  },
  {
   "cell_type": "code",
   "execution_count": null,
   "metadata": {},
   "outputs": [],
   "source": [
    "n_games = 100000\n",
    "wins_stay = play_batch(n_games, False)\n",
    "wins_switch = play_batch(n_games, True)\n",
    "\n",
    "print(f\"Wins when switching: {100 * wins_switch / n_games:.2f}%\")\n",
    "print(f\"Wins with staying:   {100 * wins_stay / n_games:.2f}%\")\n"
   ]
  },
  {
   "cell_type": "code",
   "execution_count": null,
   "metadata": {},
   "outputs": [],
   "source": []
  }
 ],
 "metadata": {
  "kernelspec": {
   "display_name": "dev",
   "language": "python",
   "name": "python3"
  },
  "language_info": {
   "codemirror_mode": {
    "name": "ipython",
    "version": 3
   },
   "file_extension": ".py",
   "mimetype": "text/x-python",
   "name": "python",
   "nbconvert_exporter": "python",
   "pygments_lexer": "ipython3",
   "version": "3.10.10"
  }
 },
 "nbformat": 4,
 "nbformat_minor": 2
}
