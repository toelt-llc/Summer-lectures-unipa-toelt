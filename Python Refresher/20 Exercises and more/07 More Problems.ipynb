{
 "cells": [
  {
   "cell_type": "markdown",
   "metadata": {},
   "source": [
    "# More Problems\n"
   ]
  },
  {
   "cell_type": "markdown",
   "metadata": {},
   "source": [
    "To sharpen your algo skills solve problems with online judges.\n",
    "\n",
    "Many available:\n",
    "\n",
    "- [LeetCode](https://leetcode.com/)\n",
    "- [HackerRank](https://www.hackerrank.com/)\n",
    "- [TopCoder](https://www.topcoder.com/)\n",
    "- [Kaggle](https://www.kaggle.com/)\n",
    "- [Codeforces](https://codeforces.com/)\n",
    "- [Project Euler](https://projecteuler.net/)\n",
    "- [CodeChef](https://www.codechef.com/)\n",
    "- [AtCoder](https://atcoder.jp/)\n",
    "- [SPOJ (Sphere Online Judge)](https://www.spoj.com/)\n",
    "- [Codewars](https://www.codewars.com/)\n",
    "- [InterviewBit](https://www.interviewbit.com/).\n",
    "- [UVa Online Judge](https://onlinejudge.org/)\n",
    "- [Coderbyte](https://www.coderbyte.com/)\n",
    "- [Exercism](https://exercism.io/)\n",
    "- [CodingBat](https://codingbat.com/)\n",
    "- [CodinGame](https://www.codingame.com/start)\n",
    "- [Kattis](https://open.kattis.com/)\n",
    "- [CodeSignal](https://codesignal.com/)\n",
    "- [HackerEarth](https://www.hackerearth.com/)\n",
    "- [GeeksforGeeks Practice](https://practice.geeksforgeeks.org/)\n",
    "- ..."
   ]
  }
 ],
 "metadata": {
  "kernelspec": {
   "display_name": "dev",
   "language": "python",
   "name": "python3"
  },
  "language_info": {
   "codemirror_mode": {
    "name": "ipython",
    "version": 3
   },
   "file_extension": ".py",
   "mimetype": "text/x-python",
   "name": "python",
   "nbconvert_exporter": "python",
   "pygments_lexer": "ipython3",
   "version": "3.10.10"
  }
 },
 "nbformat": 4,
 "nbformat_minor": 2
}
