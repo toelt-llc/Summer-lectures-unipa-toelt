{
 "cells": [
  {
   "cell_type": "markdown",
   "metadata": {},
   "source": [
    "# Python Edge Cases\n"
   ]
  },
  {
   "cell_type": "markdown",
   "metadata": {},
   "source": [
    "Really want to understand the language? Highly recommended read: [What the f*ck Python! 😱](https://github.com/satwikkansal/wtfpython/tree/master)\n",
    "\n",
    "For example: [Needles in a Haystack](https://github.com/satwikkansal/wtfpython/tree/master#-needles-in-a-haystack-)"
   ]
  }
 ],
 "metadata": {
  "kernelspec": {
   "display_name": "dev",
   "language": "python",
   "name": "python3"
  },
  "language_info": {
   "codemirror_mode": {
    "name": "ipython",
    "version": 3
   },
   "file_extension": ".py",
   "mimetype": "text/x-python",
   "name": "python",
   "nbconvert_exporter": "python",
   "pygments_lexer": "ipython3",
   "version": "3.10.10"
  }
 },
 "nbformat": 4,
 "nbformat_minor": 2
}
