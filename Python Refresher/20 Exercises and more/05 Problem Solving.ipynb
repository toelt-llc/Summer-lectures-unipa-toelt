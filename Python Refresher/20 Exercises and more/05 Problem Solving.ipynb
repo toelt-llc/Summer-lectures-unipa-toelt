{
 "cells": [
  {
   "cell_type": "markdown",
   "metadata": {},
   "source": [
    "# Problem Solving Example\n"
   ]
  },
  {
   "cell_type": "markdown",
   "metadata": {},
   "source": [
    "Given an array `xs` of integers and a target value `target`, find two indices `i1`, `i2` such that `xs[i1] + xs[i2] == target` and `i1` $\\neq$ `i2`\n",
    "\n",
    "Example:\n",
    "\n",
    "        xs = [5, 6, -3, -1, 2, 1, -5, -8, -6, -9]\n",
    "        target = 1\n",
    "        ==> xs[1] + xs[6] = 6 + -5 = 1\n"
   ]
  },
  {
   "cell_type": "code",
   "execution_count": 6,
   "metadata": {},
   "outputs": [],
   "source": [
    "def check_solution(xs, target, i1, i2):\n",
    "    sum_ = xs[i1] + xs[i2]\n",
    "    passed = sum_ == target and i1 != i2\n",
    "    print(f\"Check: {'PASSED' if passed else 'end=FAILED'}\")\n",
    "    print(\">\", xs)\n",
    "    print(f\"> xs[{i1}] + xs[{i2}] = {xs[i1]} + {xs[i2]} = {sum_}\")\n",
    "    print(f\"> target = {target}\")\n"
   ]
  },
  {
   "cell_type": "code",
   "execution_count": null,
   "metadata": {},
   "outputs": [],
   "source": [
    "def two_sum(xs, target):\n",
    "    # IMPLEMENT ME\n",
    "    return 0, 0\n",
    "\n",
    "\n",
    "xs = [5, 6, -3, -1, 2, 1, -5, -8, -6, -9]\n",
    "target = 1\n",
    "i1, i2 = two_sum(xs, target)\n",
    "check_solution(xs, target, i1, i2)\n"
   ]
  }
 ],
 "metadata": {
  "kernelspec": {
   "display_name": "dev",
   "language": "python",
   "name": "python3"
  },
  "language_info": {
   "codemirror_mode": {
    "name": "ipython",
    "version": 3
   },
   "file_extension": ".py",
   "mimetype": "text/x-python",
   "name": "python",
   "nbconvert_exporter": "python",
   "pygments_lexer": "ipython3",
   "version": "3.10.10"
  }
 },
 "nbformat": 4,
 "nbformat_minor": 2
}
