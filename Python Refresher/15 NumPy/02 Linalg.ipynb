{
 "cells": [
  {
   "cell_type": "markdown",
   "metadata": {},
   "source": [
    "# Linear algebra with NumPy"
   ]
  },
  {
   "cell_type": "code",
   "execution_count": null,
   "metadata": {},
   "outputs": [],
   "source": [
    "import numpy as np\n"
   ]
  },
  {
   "cell_type": "markdown",
   "metadata": {},
   "source": [
    "### Vectors\n",
    "\n",
    "Gotcha: For regular linear algebra with numpy (\"Matlab style\"), treat vectors as two-dimensional ndarrays with one dimensions of size 1. Otherwise notion of \"column vector\" and \"row vector\" will be lost\n"
   ]
  },
  {
   "cell_type": "code",
   "execution_count": null,
   "metadata": {},
   "outputs": [],
   "source": [
    "# vector as 1-dim ndarray\n",
    "v = np.array([1, 2, 3])\n",
    "print(\"v:  \", v)\n",
    "print(\"v^T:\", v.T)\n",
    "print(\"shape:\", v.shape)\n"
   ]
  },
  {
   "cell_type": "code",
   "execution_count": null,
   "metadata": {},
   "outputs": [],
   "source": [
    "# vector as 2-dim ndarray; ndmin = min no. of dims\n",
    "v = np.array([1, 2, 3], ndmin=2)\n",
    "print(\"v:  \", v)\n",
    "print(\"v^T:\", v.T)\n",
    "print(\"shape:    \", v.shape)\n",
    "print(\"shape (T):\", v.T.shape)\n"
   ]
  },
  {
   "cell_type": "code",
   "execution_count": null,
   "metadata": {},
   "outputs": [],
   "source": [
    "# or equivalently\n",
    "v2 = np.array([[1, 2, 3]])\n",
    "np.all(v == v2) and v.shape == v2.shape\n"
   ]
  },
  {
   "cell_type": "markdown",
   "metadata": {},
   "source": [
    "### Matrices\n",
    "\n",
    "Gotcha: Do not use `*` for MMM but either of:\n",
    "* the `np.dot()` library function\n",
    "* the `ndarray#dot()` method\n",
    "* the infix `@` operator instead:"
   ]
  },
  {
   "cell_type": "code",
   "execution_count": null,
   "metadata": {},
   "outputs": [],
   "source": [
    "# regular 2 x 3 matrix\n",
    "A = np.array([[1, 2, 3], [4, 5, 6]])\n",
    "print(A)\n",
    "\n",
    "# regular col vector\n",
    "x = np.array([2, 4, -1]).reshape((-1, 1))\n",
    "print(x)\n"
   ]
  },
  {
   "cell_type": "code",
   "execution_count": null,
   "metadata": {},
   "outputs": [],
   "source": [
    "np.dot(A, x)\n"
   ]
  },
  {
   "cell_type": "code",
   "execution_count": null,
   "metadata": {},
   "outputs": [],
   "source": [
    "A.dot(x)\n"
   ]
  },
  {
   "cell_type": "code",
   "execution_count": null,
   "metadata": {},
   "outputs": [],
   "source": [
    "A @ x\n"
   ]
  },
  {
   "cell_type": "markdown",
   "metadata": {},
   "source": [
    "### And what about that asterisk `*`?\n",
    "`*` in numpy denotes *broadcasting*"
   ]
  },
  {
   "cell_type": "markdown",
   "metadata": {},
   "source": [
    "Broadcasting enables operations between arrays of different shapes by:\n",
    "\n",
    "1. automatically expanding the dims of the smaller array to match the larger one\n",
    "2. carrying out the operation element-wise\n",
    "\n"
   ]
  },
  {
   "cell_type": "code",
   "execution_count": null,
   "metadata": {},
   "outputs": [],
   "source": [
    "# Example: Broadcast array `B` to match the shape of `A` for the addition operation:\n",
    "\n",
    "A = np.array([[1, 2, 3], [4, 5, 6], [7, 8, 9]])\n",
    "B = np.array([2, 2, 2])\n",
    "\n",
    "print(A, end=\"\\n\\n\")\n",
    "print(B, end=\"\\n\\n\")\n",
    "print(A + B)\n"
   ]
  }
 ],
 "metadata": {
  "kernelspec": {
   "display_name": "Python 3",
   "language": "python",
   "name": "python3"
  },
  "language_info": {
   "codemirror_mode": {
    "name": "ipython",
    "version": 3
   },
   "file_extension": ".py",
   "mimetype": "text/x-python",
   "name": "python",
   "nbconvert_exporter": "python",
   "pygments_lexer": "ipython3",
   "version": "3.10.10"
  }
 },
 "nbformat": 4,
 "nbformat_minor": 4
}
