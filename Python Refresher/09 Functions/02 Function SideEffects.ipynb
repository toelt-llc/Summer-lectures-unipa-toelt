{
 "cells": [
  {
   "cell_type": "markdown",
   "metadata": {},
   "source": [
    "# Side effects\n",
    "\n",
    "Definition: An operation, function or expression is said to have a side effect if it **modifies some value(s) outside its local environment** with an observable effect other than its primary effect of returning a value to the invoker\n",
    "\n",
    "Examples:\n",
    "\n",
    "- modifying a global variable\n",
    "- changing the contents of a list\n",
    "- printing to the stdout\n",
    "- writing to a file\n",
    "\n",
    "Side effects increase the complexity of programs and we want to reduce such to the necessary minimum.\n",
    "\n",
    "Functions without side effects are called _pure functions_ and bring many advantages such as so-called _referential transparency_. However, details on this go beyond the scope of this refresher.\n"
   ]
  },
  {
   "cell_type": "markdown",
   "metadata": {},
   "source": [
    "### Side Effects through Function Arguments"
   ]
  },
  {
   "cell_type": "markdown",
   "metadata": {},
   "source": [
    "##### Pure functions"
   ]
  },
  {
   "cell_type": "code",
   "execution_count": 7,
   "metadata": {},
   "outputs": [],
   "source": [
    "def double_value(x):\n",
    "    x = x + x\n",
    "    return x\n"
   ]
  },
  {
   "cell_type": "markdown",
   "metadata": {},
   "source": [
    "##### Input of type `int`"
   ]
  },
  {
   "cell_type": "code",
   "execution_count": 3,
   "metadata": {},
   "outputs": [
    {
     "data": {
      "text/plain": [
       "20"
      ]
     },
     "execution_count": 3,
     "metadata": {},
     "output_type": "execute_result"
    }
   ],
   "source": [
    "x = 10\n",
    "double_value(x)\n"
   ]
  },
  {
   "cell_type": "code",
   "execution_count": 4,
   "metadata": {},
   "outputs": [
    {
     "data": {
      "text/plain": [
       "10"
      ]
     },
     "execution_count": 4,
     "metadata": {},
     "output_type": "execute_result"
    }
   ],
   "source": [
    "# Parameter unchanged\n",
    "x\n"
   ]
  },
  {
   "cell_type": "markdown",
   "metadata": {},
   "source": [
    "##### Input of type `list`"
   ]
  },
  {
   "cell_type": "code",
   "execution_count": 5,
   "metadata": {},
   "outputs": [
    {
     "data": {
      "text/plain": [
       "[1, 2, 3, 1, 2, 3]"
      ]
     },
     "execution_count": 5,
     "metadata": {},
     "output_type": "execute_result"
    }
   ],
   "source": [
    "x = [1, 2, 3]\n",
    "double_value(x)\n"
   ]
  },
  {
   "cell_type": "code",
   "execution_count": 6,
   "metadata": {},
   "outputs": [
    {
     "data": {
      "text/plain": [
       "[1, 2, 3]"
      ]
     },
     "execution_count": 6,
     "metadata": {},
     "output_type": "execute_result"
    }
   ],
   "source": [
    "# Parameter unchanged\n",
    "x\n"
   ]
  },
  {
   "cell_type": "markdown",
   "metadata": {},
   "source": [
    "##### Impure functions ($\\Rightarrow$ side effects!)"
   ]
  },
  {
   "cell_type": "code",
   "execution_count": 16,
   "metadata": {},
   "outputs": [],
   "source": [
    "def double_value(x):\n",
    "    x += x\n",
    "    return x\n"
   ]
  },
  {
   "cell_type": "markdown",
   "metadata": {},
   "source": [
    "##### Input of type `int`"
   ]
  },
  {
   "cell_type": "code",
   "execution_count": 17,
   "metadata": {},
   "outputs": [
    {
     "data": {
      "text/plain": [
       "20"
      ]
     },
     "execution_count": 17,
     "metadata": {},
     "output_type": "execute_result"
    }
   ],
   "source": [
    "x = 10\n",
    "double_value(x)\n"
   ]
  },
  {
   "cell_type": "code",
   "execution_count": null,
   "metadata": {},
   "outputs": [
    {
     "data": {
      "text/plain": [
       "10"
      ]
     },
     "execution_count": 10,
     "metadata": {},
     "output_type": "execute_result"
    }
   ],
   "source": [
    "# Parameter unchanged -- same as before\n",
    "x\n"
   ]
  },
  {
   "cell_type": "markdown",
   "metadata": {},
   "source": [
    "##### Input of type `list`"
   ]
  },
  {
   "cell_type": "code",
   "execution_count": 13,
   "metadata": {},
   "outputs": [
    {
     "data": {
      "text/plain": [
       "False"
      ]
     },
     "execution_count": 13,
     "metadata": {},
     "output_type": "execute_result"
    }
   ],
   "source": [
    "x = [1, 2, 3]\n",
    "xx = double_value(x)\n",
    "\n",
    "len(x) == 3\n"
   ]
  },
  {
   "cell_type": "code",
   "execution_count": 12,
   "metadata": {},
   "outputs": [
    {
     "data": {
      "text/plain": [
       "[1, 2, 3, 1, 2, 3]"
      ]
     },
     "execution_count": 12,
     "metadata": {},
     "output_type": "execute_result"
    }
   ],
   "source": [
    "# Parameter has been changed -- side effect!\n",
    "x\n"
   ]
  },
  {
   "cell_type": "markdown",
   "metadata": {},
   "source": [
    "### Global Variables"
   ]
  },
  {
   "cell_type": "markdown",
   "metadata": {},
   "source": [
    "##### DON'T\n"
   ]
  },
  {
   "cell_type": "code",
   "execution_count": 18,
   "metadata": {},
   "outputs": [
    {
     "data": {
      "text/plain": [
       "11"
      ]
     },
     "execution_count": 18,
     "metadata": {},
     "output_type": "execute_result"
    }
   ],
   "source": [
    "def ugly():  # so-called \"closure\"\n",
    "    return a + 1\n",
    "\n",
    "a = 10\n",
    "ugly()\n"
   ]
  },
  {
   "cell_type": "markdown",
   "metadata": {},
   "source": [
    "The above works because when Python encounters a symbol not known in local scope, it looks for it in the outer scope (here: the global scope)\n",
    "\n",
    "There are use cases where the this is quite useful\n",
    "\n",
    "For now we just not that closures contradict our earlier principle \"first define - then use\"\n"
   ]
  },
  {
   "cell_type": "markdown",
   "metadata": {},
   "source": [
    "### DON'T\n",
    "The following is an example of *shadowing* and should always be avoided\n",
    "\n",
    "Note the two different \"versions\" of `a`!"
   ]
  },
  {
   "cell_type": "code",
   "execution_count": 24,
   "metadata": {},
   "outputs": [
    {
     "name": "stdout",
     "output_type": "stream",
     "text": [
      "5\n",
      "5\n"
     ]
    }
   ],
   "source": [
    "def ugly():\n",
    "    # global a\n",
    "    a = 5    # shadowing!\n",
    "    print(a)\n",
    "\n",
    "a = 10\n",
    "ugly()\n",
    "print(a)\n"
   ]
  },
  {
   "cell_type": "markdown",
   "metadata": {},
   "source": [
    "### DON'T"
   ]
  },
  {
   "cell_type": "code",
   "execution_count": 26,
   "metadata": {},
   "outputs": [
    {
     "ename": "UnboundLocalError",
     "evalue": "cannot access local variable 'a' where it is not associated with a value",
     "output_type": "error",
     "traceback": [
      "\u001b[1;31m---------------------------------------------------------------------------\u001b[0m",
      "\u001b[1;31mUnboundLocalError\u001b[0m                         Traceback (most recent call last)",
      "\u001b[1;32mc:\\Users\\Michael\\Mega\\workbench\\hslu\\cas-ml2\\python_refresher\\notes\\09 Functions\\02 Function SideEffects.ipynb Cell 26\u001b[0m line \u001b[0;36m6\n\u001b[0;32m      <a href='vscode-notebook-cell:/c%3A/Users/Michael/Mega/workbench/hslu/cas-ml2/python_refresher/notes/09%20Functions/02%20Function%20SideEffects.ipynb#X34sZmlsZQ%3D%3D?line=2'>3</a>\u001b[0m     a \u001b[39m=\u001b[39m a \u001b[39m+\u001b[39m \u001b[39m1\u001b[39m\n\u001b[0;32m      <a href='vscode-notebook-cell:/c%3A/Users/Michael/Mega/workbench/hslu/cas-ml2/python_refresher/notes/09%20Functions/02%20Function%20SideEffects.ipynb#X34sZmlsZQ%3D%3D?line=4'>5</a>\u001b[0m a \u001b[39m=\u001b[39m \u001b[39m10\u001b[39m\n\u001b[1;32m----> <a href='vscode-notebook-cell:/c%3A/Users/Michael/Mega/workbench/hslu/cas-ml2/python_refresher/notes/09%20Functions/02%20Function%20SideEffects.ipynb#X34sZmlsZQ%3D%3D?line=5'>6</a>\u001b[0m ugly()\n\u001b[0;32m      <a href='vscode-notebook-cell:/c%3A/Users/Michael/Mega/workbench/hslu/cas-ml2/python_refresher/notes/09%20Functions/02%20Function%20SideEffects.ipynb#X34sZmlsZQ%3D%3D?line=6'>7</a>\u001b[0m \u001b[39mprint\u001b[39m(a)\n",
      "\u001b[1;32mc:\\Users\\Michael\\Mega\\workbench\\hslu\\cas-ml2\\python_refresher\\notes\\09 Functions\\02 Function SideEffects.ipynb Cell 26\u001b[0m line \u001b[0;36m3\n\u001b[0;32m      <a href='vscode-notebook-cell:/c%3A/Users/Michael/Mega/workbench/hslu/cas-ml2/python_refresher/notes/09%20Functions/02%20Function%20SideEffects.ipynb#X34sZmlsZQ%3D%3D?line=1'>2</a>\u001b[0m \u001b[39mdef\u001b[39;00m \u001b[39mugly\u001b[39m():\n\u001b[1;32m----> <a href='vscode-notebook-cell:/c%3A/Users/Michael/Mega/workbench/hslu/cas-ml2/python_refresher/notes/09%20Functions/02%20Function%20SideEffects.ipynb#X34sZmlsZQ%3D%3D?line=2'>3</a>\u001b[0m     a \u001b[39m=\u001b[39m a \u001b[39m+\u001b[39m \u001b[39m1\u001b[39m\n",
      "\u001b[1;31mUnboundLocalError\u001b[0m: cannot access local variable 'a' where it is not associated with a value"
     ]
    }
   ],
   "source": [
    "# Error: Assignments to variables from the outer environment not possible\n",
    "def ugly():\n",
    "    a = a + 1\n",
    "\n",
    "a = 10\n",
    "ugly()\n",
    "print(a)\n"
   ]
  },
  {
   "cell_type": "code",
   "execution_count": 27,
   "metadata": {},
   "outputs": [
    {
     "name": "stdout",
     "output_type": "stream",
     "text": [
      "11\n"
     ]
    }
   ],
   "source": [
    "# Error could be fixed with `global`. Still: DON'T!\n",
    "def ugly():\n",
    "    global a\n",
    "    a = a + 1\n",
    "\n",
    "a = 10\n",
    "ugly()\n",
    "print(a)\n"
   ]
  },
  {
   "cell_type": "code",
   "execution_count": null,
   "metadata": {},
   "outputs": [],
   "source": []
  }
 ],
 "metadata": {
  "kernelspec": {
   "display_name": "Python 3",
   "language": "python",
   "name": "python3"
  },
  "language_info": {
   "codemirror_mode": {
    "name": "ipython",
    "version": 3
   },
   "file_extension": ".py",
   "mimetype": "text/x-python",
   "name": "python",
   "nbconvert_exporter": "python",
   "pygments_lexer": "ipython3",
   "version": "3.11.5"
  }
 },
 "nbformat": 4,
 "nbformat_minor": 4
}
