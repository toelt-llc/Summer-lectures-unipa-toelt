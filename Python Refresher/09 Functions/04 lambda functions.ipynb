{
 "cells": [
  {
   "cell_type": "markdown",
   "metadata": {},
   "source": [
    "# Lambda functions"
   ]
  },
  {
   "cell_type": "markdown",
   "metadata": {},
   "source": [
    "Properties:\n",
    "\n",
    "- have no name\n",
    "- are limited to one expression\n",
    "\n",
    "In practice wide-spread use for short fucntions\n",
    "\n",
    "Particularly useful as _predicates_, i.e. boolean-valued functions passed to some higher-order function such as `filter()`.\n"
   ]
  },
  {
   "cell_type": "markdown",
   "metadata": {},
   "source": [
    "## Examples"
   ]
  },
  {
   "cell_type": "markdown",
   "metadata": {},
   "source": [
    "### `is_even` (regular use)"
   ]
  },
  {
   "cell_type": "code",
   "execution_count": null,
   "metadata": {},
   "outputs": [],
   "source": [
    "is_even = lambda x: x % 2 == 0\n"
   ]
  },
  {
   "cell_type": "code",
   "execution_count": null,
   "metadata": {},
   "outputs": [],
   "source": [
    "print(is_even(2))\n",
    "print(is_even(3))\n"
   ]
  },
  {
   "cell_type": "markdown",
   "metadata": {},
   "source": [
    "### `is_even` (predicate use)"
   ]
  },
  {
   "cell_type": "code",
   "execution_count": null,
   "metadata": {},
   "outputs": [],
   "source": [
    "xs = [1, 2, 3, 4, 5, 6]\n",
    "even_numbers = filter(is_even, xs)\n",
    "list(even_numbers)\n"
   ]
  },
  {
   "cell_type": "markdown",
   "metadata": {},
   "source": [
    "### `add`"
   ]
  },
  {
   "cell_type": "code",
   "execution_count": null,
   "metadata": {},
   "outputs": [],
   "source": [
    "add = lambda x, y: x + y\n",
    "add(3, 4)\n"
   ]
  },
  {
   "cell_type": "code",
   "execution_count": null,
   "metadata": {},
   "outputs": [],
   "source": [
    "# or \"curried\" use\n",
    "(lambda x, y: x + y)(3, 4)\n"
   ]
  },
  {
   "cell_type": "markdown",
   "metadata": {},
   "source": [
    "### Note\n",
    "The answer to whether or not lambdas should be assigned to vars depends a lot on who you ask. We may ask GPT-4:\n",
    "\n",
    "Sources recommending assigning Lambdas to variables:\n",
    "\n",
    "1. \"Python Tricks: A Buffet of Awesome Python Features\" by Dan Bader: This book suggests that lambda functions can be assigned to variables for reuse, especially in simple cases.\n",
    "2. \"Python Crash Course\" by Eric Matthes: The author explains that lambda functions can be assigned to variables to make the code more readable.\n",
    "3. \"Python Cookbook\" by David Beazley and Brian K. Jones: This book provides examples where lambda functions are assigned to variables for later use.\n",
    "4. \"Learning Python\" by Mark Lutz: The author suggests that lambda functions can be assigned to variables for simple tasks.\n",
    "5. Stack Overflow: Many users on this platform suggest assigning lambda functions to variables for specific use cases.\n",
    "\n",
    "Sources recommending _against_ assigning Lambdas to variables:\n",
    "\n",
    "1. PEP 8 -- Style Guide for Python Code: PEP 8 advises against assigning a lambda expression to a variable. It suggests using a def statement instead.\n",
    "2. \"Clean Code in Python\" by Mariano Anaya: The author recommends using named functions instead of assigning lambda functions to variables for better code readability.\n",
    "3. \"Fluent Python\" by Luciano Ramalho: This book suggests that lambda functions should not be assigned to variables as it can make the code less clear.\n",
    "4. \"Effective Python: 90 Specific Ways to Write Better Python\" by Brett Slatkin: The author advises against assigning lambda functions to variables, suggesting that it can lead to less readable code.\n",
    "5. Python.org: The official Python documentation suggests using def for larger functions, implying that lambda functions should not be assigned to variables for complex tasks."
   ]
  },
  {
   "cell_type": "markdown",
   "metadata": {},
   "source": []
  }
 ],
 "metadata": {
  "kernelspec": {
   "display_name": "Python 3",
   "language": "python",
   "name": "python3"
  },
  "language_info": {
   "codemirror_mode": {
    "name": "ipython",
    "version": 3
   },
   "file_extension": ".py",
   "mimetype": "text/x-python",
   "name": "python",
   "nbconvert_exporter": "python",
   "pygments_lexer": "ipython3",
   "version": "3.10.6"
  }
 },
 "nbformat": 4,
 "nbformat_minor": 4
}
