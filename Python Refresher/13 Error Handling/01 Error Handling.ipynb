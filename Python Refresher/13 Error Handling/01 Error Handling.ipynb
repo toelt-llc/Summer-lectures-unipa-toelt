{
  "cells": [
    {
      "cell_type": "markdown",
      "metadata": {},
      "source": [
        "# Error Management"
      ]
    },
    {
      "cell_type": "markdown",
      "metadata": {},
      "source": [
        "Murphy's Law\n",
        "\n",
        "> Whatever can go wrong, will go wrong\n",
        "\n",
        "Python's Approach: Instead of avoid errors and fencing for all possible edge cases, we do what we do and handle errors as they occur. Errors may even be the default mechanism to communicate state, e.g. `StopIteration`\n",
        "\n",
        "In Python terms:\n",
        "\n",
        "> It's easier to ask for forgiveness than permission.\n"
      ]
    },
    {
      "cell_type": "markdown",
      "metadata": {},
      "source": [
        "### Catching errors"
      ]
    },
    {
      "cell_type": "code",
      "execution_count": null,
      "metadata": {},
      "outputs": [],
      "source": [
        "# What we want:                      # What may go wrong:\n",
        "data = open(\"not_there.txt\").read()  # file may not exist or access denied\n",
        "number = int(data)                   # String may not represent a valid number\n",
        "print(number)\n"
      ]
    },
    {
      "cell_type": "code",
      "execution_count": null,
      "metadata": {},
      "outputs": [],
      "source": [
        "# Preparing for potentially missing files\n",
        "try:\n",
        "    reader = open(\"not_there.txt\").read()\n",
        "    number = int(data)\n",
        "    print(number)\n",
        "except FileNotFoundError:\n",
        "    print(\"File not found\")\n"
      ]
    },
    {
      "cell_type": "code",
      "execution_count": null,
      "metadata": {},
      "outputs": [],
      "source": [
        "# More trouble ahead\n",
        "try:\n",
        "    data = open(\"data_1.txt\").read()\n",
        "    number = int(data)\n",
        "    print(number)\n",
        "except FileNotFoundError:\n",
        "    print(\"File not found\")\n"
      ]
    },
    {
      "cell_type": "code",
      "execution_count": null,
      "metadata": {},
      "outputs": [],
      "source": [
        "# Add handling of bad values\n",
        "try:\n",
        "    data = open(\"data_1.txt\").read()\n",
        "    number = int(data)\n",
        "    print(number)\n",
        "except FileNotFoundError:\n",
        "    print(\"File not found\")\n",
        "except ValueError:\n",
        "    print(\"Failed converting data to int\")\n"
      ]
    },
    {
      "cell_type": "code",
      "execution_count": null,
      "metadata": {},
      "outputs": [],
      "source": [
        "try:\n",
        "    data = open(\"data_2.txt\").read()\n",
        "    number = int(data)\n",
        "    print(number)\n",
        "except FileNotFoundError:\n",
        "    print(\"File not found\")\n",
        "except ValueError:\n",
        "    print(\"Failed converting data to int\")\n"
      ]
    },
    {
      "cell_type": "markdown",
      "metadata": {},
      "source": [
        "### Example\n",
        "\n",
        "`dict` keys may or may not exist\n"
      ]
    },
    {
      "cell_type": "code",
      "execution_count": null,
      "metadata": {},
      "outputs": [],
      "source": [
        "beverage = {\"category\": \"whiskey\", \"brand\": \"glenfiddich\"}\n"
      ]
    },
    {
      "cell_type": "code",
      "execution_count": null,
      "metadata": {},
      "outputs": [],
      "source": [
        "beverage[\"brand\"]\n"
      ]
    },
    {
      "cell_type": "code",
      "execution_count": null,
      "metadata": {},
      "outputs": [],
      "source": [
        "beverage[\"price\"]\n"
      ]
    },
    {
      "cell_type": "markdown",
      "metadata": {},
      "source": [
        "### DON'T"
      ]
    },
    {
      "cell_type": "code",
      "execution_count": null,
      "metadata": {},
      "outputs": [],
      "source": [
        "if \"price\" in beverage:\n",
        "    print(beverage[\"price\"])\n",
        "else:\n",
        "    print(f\"No key named 'price'\")\n"
      ]
    },
    {
      "cell_type": "markdown",
      "metadata": {},
      "source": [
        "### DO"
      ]
    },
    {
      "cell_type": "code",
      "execution_count": null,
      "metadata": {},
      "outputs": [],
      "source": [
        "try:\n",
        "    print(beverage['price'])\n",
        "except KeyError:\n",
        "    print(f\"There is no key named 'price'\")\n"
      ]
    },
    {
      "cell_type": "markdown",
      "metadata": {},
      "source": [
        "Or in this specific case of `dict`, more consisely:"
      ]
    },
    {
      "cell_type": "code",
      "execution_count": null,
      "metadata": {},
      "outputs": [],
      "source": [
        "print(beverage.get('price'))\n"
      ]
    },
    {
      "cell_type": "code",
      "execution_count": null,
      "metadata": {},
      "outputs": [],
      "source": [
        "print(beverage.get(\"price\", \"There is no key named 'price'\"))\n"
      ]
    },
    {
      "cell_type": "markdown",
      "metadata": {},
      "source": [
        "### Example"
      ]
    },
    {
      "cell_type": "markdown",
      "metadata": {},
      "source": [
        "List element may or may not exist"
      ]
    },
    {
      "cell_type": "code",
      "execution_count": null,
      "metadata": {},
      "outputs": [],
      "source": [
        "def print_index(students, query):\n",
        "    try:\n",
        "        ix = students.index(query)\n",
        "        print(f\"Student '{query}' found at index {ix}\")\n",
        "    except ValueError:\n",
        "        print(f\"No such student '{query}'\")\n",
        "\n",
        "students = [\"Bob\", \"Grace\", \"Alice\", \"Eve\"]\n",
        "print_index(students, \"Grace\")\n",
        "print_index(students, \"Scooby Doo\")\n"
      ]
    }
  ],
  "metadata": {
    "kernelspec": {
      "display_name": "Python 3",
      "language": "python",
      "name": "python3"
    },
    "language_info": {
      "codemirror_mode": {
        "name": "ipython",
        "version": 3
      },
      "file_extension": ".py",
      "mimetype": "text/x-python",
      "name": "python",
      "nbconvert_exporter": "python",
      "pygments_lexer": "ipython3",
      "version": "3.10.6"
    }
  },
  "nbformat": 4,
  "nbformat_minor": 4
}
