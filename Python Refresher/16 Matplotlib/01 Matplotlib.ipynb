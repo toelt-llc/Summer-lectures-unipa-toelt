{
 "cells": [
  {
   "cell_type": "markdown",
   "metadata": {},
   "source": [
    "# Matplotlib\n",
    "\n",
    "Feature set:\n",
    "\n",
    "1. Plotting: support for wide variety of plots, including line, bar, scatter, histogram, etc.\n",
    "2. Customization: provides extensive control over properties like line styles, font properties, axes properties, etc.\n",
    "3. Interactive Features: supports interactive features like zooming, panning, updating, etc.\n",
    "4. Backend Support: supports a wide range of backends, allowing for rendering in various GUI environments, online platforms, and hardcopy formats\n",
    "5. Integration: closely integrates with NumPy, Pandas, and Seaborn\n",
    "6. 3D Plotting: supports 3D plots\n",
    "7. Subplots: allows for complex layouts with subplots, grids, and more\n",
    "8. Colormaps: comes with large set of predefined colormaps and infrastructure for creating and managing new colormaps\n",
    "9. Text and Annotations: provides tools for easy text and annotation additions to the plots\n",
    "\n",
    "Check out the [Matplotlib User Guide](https://matplotlib.org/stable/users/index)!\n"
   ]
  },
  {
   "cell_type": "code",
   "execution_count": null,
   "metadata": {},
   "outputs": [],
   "source": [
    "import matplotlib.pyplot as plt\n",
    "import numpy as np\n",
    "\n",
    "%matplotlib inline\n"
   ]
  },
  {
   "cell_type": "markdown",
   "metadata": {},
   "source": [
    "### Simple Plots"
   ]
  },
  {
   "cell_type": "code",
   "execution_count": null,
   "metadata": {},
   "outputs": [],
   "source": [
    "x = [1, 2, 3, 4, 5, 6]\n",
    "y = [2, 4, 6, 6, 3, 9]\n",
    "plt.title(\"Hello matplotlib\")\n",
    "plt.plot(x, y);\n"
   ]
  },
  {
   "cell_type": "code",
   "execution_count": null,
   "metadata": {},
   "outputs": [],
   "source": [
    "# choosing figure size\n",
    "fig = plt.figure(figsize=[8, 4.5])\n",
    "plt.plot(x, y);\n"
   ]
  },
  {
   "cell_type": "code",
   "execution_count": null,
   "metadata": {},
   "outputs": [],
   "source": [
    "# adding labels\n",
    "plt.plot([1, 2, 3, 4, 5, 6], [3, 4, 5, 6, 7, 8], color=\"red\")\n",
    "plt.xlabel(\"x\", fontsize=15, color=\"red\")\n",
    "plt.ylabel(\"y = x + 2\", fontsize=15, color=\"red\");\n"
   ]
  },
  {
   "cell_type": "code",
   "execution_count": null,
   "metadata": {},
   "outputs": [],
   "source": [
    "# plotting a function\n",
    "def calc_y(xs):\n",
    "    return [x * x for x in xs]\n",
    "\n",
    "x = [-20, -10, 0, 10, 20]\n",
    "plt.plot(x, calc_y(x));\n"
   ]
  },
  {
   "cell_type": "code",
   "execution_count": null,
   "metadata": {},
   "outputs": [],
   "source": [
    "x = np.linspace(start=-20, stop=20, num=50)\n",
    "plt.plot(x, calc_y(x))\n"
   ]
  },
  {
   "cell_type": "markdown",
   "metadata": {},
   "source": [
    "### Multiple plots in one"
   ]
  },
  {
   "cell_type": "code",
   "execution_count": null,
   "metadata": {},
   "outputs": [],
   "source": [
    "x = [1, 2, 3, 4, 5, 6]\n",
    "y1 = [3, 4, 5, 6, 7, 8]\n",
    "y2 = [5, 8, 9, 16, 3, 7]\n",
    "plt.plot(x, y1, label=\"y1\")\n",
    "plt.plot(x, y2, label=\"y2\")\n",
    "plt.legend()\n",
    "plt.title(\"multiplot\")\n",
    "plt.show();\n"
   ]
  },
  {
   "cell_type": "markdown",
   "metadata": {},
   "source": [
    "### Scatter plot"
   ]
  },
  {
   "cell_type": "code",
   "execution_count": null,
   "metadata": {},
   "outputs": [],
   "source": [
    "np.random.seed(42)\n",
    "n_pts = 1000\n",
    "x = np.random.randn(n_pts)\n",
    "y = np.random.randn(n_pts)\n"
   ]
  },
  {
   "cell_type": "code",
   "execution_count": null,
   "metadata": {},
   "outputs": [],
   "source": [
    "plt.scatter(x, y, marker='d')\n"
   ]
  },
  {
   "cell_type": "markdown",
   "metadata": {},
   "source": [
    "### Bars"
   ]
  },
  {
   "cell_type": "code",
   "execution_count": null,
   "metadata": {},
   "outputs": [],
   "source": [
    "plt.bar(np.arange(20), y[:20]);\n"
   ]
  },
  {
   "cell_type": "markdown",
   "metadata": {},
   "source": [
    "### Histogram with bins "
   ]
  },
  {
   "cell_type": "code",
   "execution_count": null,
   "metadata": {},
   "outputs": [],
   "source": [
    "plt.hist(y, bins=30);\n"
   ]
  },
  {
   "cell_type": "markdown",
   "metadata": {},
   "source": [
    "### And lots more\n"
   ]
  },
  {
   "cell_type": "markdown",
   "metadata": {},
   "source": [
    "![mpl_3d](mpl_3d.png)"
   ]
  },
  {
   "cell_type": "markdown",
   "metadata": {},
   "source": [
    "### Alternatives to matplotlib\n",
    "\n",
    "1. [Seaborn](https://seaborn.pydata.org/)\n",
    "2. [Plotly](https://plotly.com/)\n",
    "3. [Bokeh](https://bokeh.org/)\n",
    "4. [ggplot](http://ggplot.yhathq.com/)\n",
    "5. [Altair](https://altair-viz.github.io/)\n",
    "6. [D3.js](https://d3js.org/)\n",
    "7. ...\n"
   ]
  }
 ],
 "metadata": {
  "kernelspec": {
   "display_name": "Python 3",
   "language": "python",
   "name": "python3"
  },
  "language_info": {
   "codemirror_mode": {
    "name": "ipython",
    "version": 3
   },
   "file_extension": ".py",
   "mimetype": "text/x-python",
   "name": "python",
   "nbconvert_exporter": "python",
   "pygments_lexer": "ipython3",
   "version": "3.10.10"
  }
 },
 "nbformat": 4,
 "nbformat_minor": 2
}
