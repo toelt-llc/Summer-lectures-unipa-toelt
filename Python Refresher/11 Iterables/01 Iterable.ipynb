{
 "cells": [
  {
   "cell_type": "markdown",
   "metadata": {},
   "source": [
    "# Iterables and iterators"
   ]
  },
  {
   "cell_type": "markdown",
   "metadata": {},
   "source": [
    "### Introduction\n",
    "Recall: We saw that a `for` statement expects an iterable after the `in`.\n",
    "\n",
    "Iterable\n",
    "\n",
    "- an object that can return an iterator\n",
    "- most built-in containers like list, tuple, string etc. are iterables\n",
    "\n",
    "Iterator\n",
    "\n",
    "- an object that keeps state and produces the next value when `next()` is called on it\n",
    "- returns actual data, one element at a time\n",
    "\n",
    "Why useful?\n",
    "\n",
    "- Memory Efficiency: Avoids storing all elements in memory at once but generate each value on the fly during looping\n",
    "- Lazy Evaluation: Deferred evaluation of elements until actually needed $\\Rightarrow$ significant performance gains for large data sets.\n",
    "- Versatility: Enables e.g. `for` loops to iterate over anything iterable\n",
    "- Flexibility: May write custom iterable objects, see `__iter__()` and `__next__()`. Enables encapsulation of complex looping logic within iterable object itself\n",
    "- Compatibility: Many built-in functions support iteration, e.g. `sum()`, `min()`, `max()`, `map()`, `filter()`, etc. Also work with list comprehensions and generator expressions (see below)\n"
   ]
  },
  {
   "cell_type": "code",
   "execution_count": null,
   "metadata": {},
   "outputs": [],
   "source": [
    "for x in [\"one\", \"two\", \"three\"]:\n",
    "    print(x, end=\" \")"
   ]
  },
  {
   "cell_type": "code",
   "execution_count": null,
   "metadata": {},
   "outputs": [],
   "source": [
    "# Remember, strings are iterables, too\n",
    "for x in \"hello\":\n",
    "    print(x, end=\" \")"
   ]
  },
  {
   "cell_type": "markdown",
   "metadata": {},
   "source": [
    "### Iterables vs. iterators in practice: The iterable protocol\n",
    "The iterable protocol is a way to make an object iterable, i.e. it can be looped over. Achieved by including two methods in the class definition: \n",
    "* `__iter__()`: Used in the initialization of the loop. Expected to return an object having a `__next__()` method. Often it returns the object itself\n",
    "* `__next__()`: Returns the next value in the sequence. Raises `StopIteration` exception once exhausted. Called at each iteration of the loop\n",
    "\n",
    "Typically both iterables and iterators implement the iterable protocol and hence both can be used in `for` loops.\n",
    "\n",
    "Basic example:"
   ]
  },
  {
   "cell_type": "code",
   "execution_count": null,
   "metadata": {},
   "outputs": [],
   "source": [
    "class MyIterable:\n",
    "    def __init__(self, data):\n",
    "        self.data = data\n",
    "        self.index = 0\n",
    "\n",
    "    def __iter__(self):\n",
    "        return self\n",
    "\n",
    "    def __next__(self):\n",
    "        if self.index >= len(self.data):\n",
    "            raise StopIteration\n",
    "        result = self.data[self.index]\n",
    "        self.index += 1\n",
    "        return result\n",
    "\n",
    "it = MyIterable((4, 5, 6))\n",
    "for x in it:\n",
    "    print(x)"
   ]
  },
  {
   "cell_type": "markdown",
   "metadata": {},
   "source": [
    "### `iter()` and `next()`"
   ]
  },
  {
   "cell_type": "code",
   "execution_count": null,
   "metadata": {},
   "outputs": [],
   "source": [
    "xs = [\"one\", \"two\", \"three\"]\n",
    "\n",
    "it = iter(xs)  # make an iterator from an iterable\n",
    "print(it)"
   ]
  },
  {
   "cell_type": "code",
   "execution_count": null,
   "metadata": {},
   "outputs": [],
   "source": [
    "# running this cell twice will raise `StopIteration`\n",
    "print(next(it))\n",
    "print(next(it))\n",
    "print(next(it))"
   ]
  },
  {
   "cell_type": "markdown",
   "metadata": {},
   "source": [
    "# Generators\n",
    "\n",
    "Generators are functions that return iterators:\n",
    "\n",
    "Such functions are implicitly defined via the use of the `yield` keyword\n",
    "\n",
    "Consider a light-weight, maintainable alternative to fully-fledged iterable implementation"
   ]
  },
  {
   "cell_type": "markdown",
   "metadata": {},
   "source": [
    "### Example"
   ]
  },
  {
   "cell_type": "code",
   "execution_count": null,
   "metadata": {},
   "outputs": [],
   "source": [
    "def even_generator():\n",
    "    i = 0\n",
    "    while True:\n",
    "        yield i\n",
    "        i += 2"
   ]
  },
  {
   "cell_type": "code",
   "execution_count": null,
   "metadata": {},
   "outputs": [],
   "source": [
    "for i in even_generator():\n",
    "    print(i, end=\" \")\n",
    "    if i > 8:\n",
    "        break"
   ]
  }
 ],
 "metadata": {
  "kernelspec": {
   "display_name": "Python 3",
   "language": "python",
   "name": "python3"
  },
  "language_info": {
   "codemirror_mode": {
    "name": "ipython",
    "version": 3
   },
   "file_extension": ".py",
   "mimetype": "text/x-python",
   "name": "python",
   "nbconvert_exporter": "python",
   "pygments_lexer": "ipython3",
   "version": "3.10.6"
  }
 },
 "nbformat": 4,
 "nbformat_minor": 4
}
