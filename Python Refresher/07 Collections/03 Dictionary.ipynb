{
 "cells": [
  {
   "cell_type": "markdown",
   "metadata": {},
   "source": [
    "# Dictionaries"
   ]
  },
  {
   "cell_type": "markdown",
   "metadata": {},
   "source": [
    "Dictionaries: associative, mutable, unordered collections of key-value pairs with keys unique and hashable, and values of any type\n",
    "\n",
    "Note (since Python 3.6/3.7): `dict` is insertion-ordered, i.e. order of elements is the same as when inserted. **Note:** Do not rely on this feature, use `collections.OrderedDict` instead \n",
    "\n",
    "Key property: Efficient, direct asccess to values through a key"
   ]
  },
  {
   "cell_type": "markdown",
   "metadata": {},
   "source": [
    "### Basics"
   ]
  },
  {
   "cell_type": "code",
   "execution_count": 2,
   "metadata": {},
   "outputs": [
    {
     "data": {
      "text/plain": [
       "{'name': 'Alice', 'age': 35, 'country': 'Switzerland'}"
      ]
     },
     "execution_count": 2,
     "metadata": {},
     "output_type": "execute_result"
    }
   ],
   "source": [
    "# {}: Erstellt einen `dict`\n",
    "contact = {\n",
    "    \"name\":    \"Alice\",\n",
    "    \"age\":     35,\n",
    "    \"country\": \"Switzerland\"\n",
    "}\n",
    "contact\n"
   ]
  },
  {
   "cell_type": "code",
   "execution_count": 4,
   "metadata": {},
   "outputs": [
    {
     "data": {
      "text/plain": [
       "'Alice'"
      ]
     },
     "execution_count": 4,
     "metadata": {},
     "output_type": "execute_result"
    }
   ],
   "source": [
    "contact[\"name\"]\n"
   ]
  },
  {
   "cell_type": "code",
   "execution_count": 5,
   "metadata": {},
   "outputs": [
    {
     "ename": "KeyError",
     "evalue": "'city'",
     "output_type": "error",
     "traceback": [
      "\u001b[1;31m---------------------------------------------------------------------------\u001b[0m",
      "\u001b[1;31mKeyError\u001b[0m                                  Traceback (most recent call last)",
      "\u001b[1;32mc:\\Users\\Michael\\Mega\\workbench\\hslu\\cas-ml2\\python_refresher\\notes\\07 Collections\\03 Dictionary.ipynb Cell 6\u001b[0m line \u001b[0;36m1\n\u001b[1;32m----> <a href='vscode-notebook-cell:/c%3A/Users/Michael/Mega/workbench/hslu/cas-ml2/python_refresher/notes/07%20Collections/03%20Dictionary.ipynb#W5sZmlsZQ%3D%3D?line=0'>1</a>\u001b[0m contact[\u001b[39m\"\u001b[39;49m\u001b[39mcity\u001b[39;49m\u001b[39m\"\u001b[39;49m]\n",
      "\u001b[1;31mKeyError\u001b[0m: 'city'"
     ]
    }
   ],
   "source": [
    "contact[\"city\"]\n"
   ]
  },
  {
   "cell_type": "markdown",
   "metadata": {},
   "source": [
    "### Check if key is contained in the `dict`"
   ]
  },
  {
   "cell_type": "code",
   "execution_count": 6,
   "metadata": {},
   "outputs": [
    {
     "data": {
      "text/plain": [
       "True"
      ]
     },
     "execution_count": 6,
     "metadata": {},
     "output_type": "execute_result"
    }
   ],
   "source": [
    "\"name\" in contact\n"
   ]
  },
  {
   "cell_type": "code",
   "execution_count": 7,
   "metadata": {},
   "outputs": [
    {
     "data": {
      "text/plain": [
       "False"
      ]
     },
     "execution_count": 7,
     "metadata": {},
     "output_type": "execute_result"
    }
   ],
   "source": [
    "\"city\" in contact\n"
   ]
  },
  {
   "cell_type": "code",
   "execution_count": 9,
   "metadata": {},
   "outputs": [],
   "source": [
    "# DON'T\n",
    "if \"city\" in contact:\n",
    "    print(contact[\"city\"])\n"
   ]
  },
  {
   "cell_type": "code",
   "execution_count": 10,
   "metadata": {},
   "outputs": [
    {
     "name": "stdout",
     "output_type": "stream",
     "text": [
      "Alice\n",
      "None\n"
     ]
    }
   ],
   "source": [
    "# DO\n",
    "print(contact.get(\"name\", None))\n",
    "print(contact.get(\"city\", None))\n"
   ]
  },
  {
   "cell_type": "markdown",
   "metadata": {},
   "source": [
    "Alternatively use error handling with `try/except` clause (see later)"
   ]
  },
  {
   "cell_type": "markdown",
   "metadata": {},
   "source": [
    "### Create-or-Update"
   ]
  },
  {
   "cell_type": "code",
   "execution_count": 13,
   "metadata": {},
   "outputs": [
    {
     "name": "stdout",
     "output_type": "stream",
     "text": [
      "{'name': 'Alice', 'age': 30, 'country': 'Switzerland'}\n",
      "{'name': 'Alice', 'age': 30, 'country': 'Switzerland', 'interests': ['Aviation', 'Mountain biking']}\n"
     ]
    }
   ],
   "source": [
    "ctc = contact.copy()\n",
    "\n",
    "ctc[\"age\"] = 30  # key exists => in-place update\n",
    "print(ctc)\n",
    "\n",
    "ctc[\"interests\"] = [\"Aviation\", \"Mountain biking\"]\n",
    "print(ctc)\n"
   ]
  },
  {
   "cell_type": "markdown",
   "metadata": {},
   "source": [
    "### Removing Keys"
   ]
  },
  {
   "cell_type": "code",
   "execution_count": 15,
   "metadata": {},
   "outputs": [
    {
     "name": "stdout",
     "output_type": "stream",
     "text": [
      "{'name': 'Alice', 'age': 35, 'country': 'Switzerland'}\n",
      "{'name': 'Alice', 'country': 'Switzerland'}\n"
     ]
    }
   ],
   "source": [
    "ctc = contact.copy()\n",
    "\n",
    "print(ctc)\n",
    "ctc.pop(\"age\")\n",
    "print(ctc)\n"
   ]
  },
  {
   "cell_type": "markdown",
   "metadata": {},
   "source": [
    "### Key set"
   ]
  },
  {
   "cell_type": "code",
   "execution_count": 16,
   "metadata": {},
   "outputs": [
    {
     "name": "stdout",
     "output_type": "stream",
     "text": [
      "{'name': 'Alice', 'age': 35, 'country': 'Switzerland'}\n",
      "name\n",
      "age\n",
      "country\n"
     ]
    }
   ],
   "source": [
    "print(contact)\n",
    "for k in contact:\n",
    "    print(k)\n"
   ]
  },
  {
   "cell_type": "code",
   "execution_count": 17,
   "metadata": {},
   "outputs": [
    {
     "name": "stdout",
     "output_type": "stream",
     "text": [
      "name: Alice\n",
      "age: 35\n",
      "country: Switzerland\n"
     ]
    }
   ],
   "source": [
    "for k, v in contact.items():\n",
    "    print(f\"{k}: {v}\")\n"
   ]
  },
  {
   "cell_type": "markdown",
   "metadata": {},
   "source": [
    "### Dynamic Keys\n",
    "Keys don't need to be literals, may be generated at runtime"
   ]
  },
  {
   "cell_type": "code",
   "execution_count": 19,
   "metadata": {},
   "outputs": [],
   "source": [
    "from faker import Faker  # for generating fake data\n",
    "import json  # for dict formatting\n",
    "\n",
    "fake = Faker(\"en_CA\")\n"
   ]
  },
  {
   "cell_type": "code",
   "execution_count": 20,
   "metadata": {},
   "outputs": [
    {
     "name": "stdout",
     "output_type": "stream",
     "text": [
      "{\n",
      "  \"person_0\": {\n",
      "    \"first\": \"Jill\",\n",
      "    \"last\": \"Cameron\",\n",
      "    \"city\": \"Lisashire\"\n",
      "  },\n",
      "  \"person_1\": {\n",
      "    \"first\": \"Cheryl\",\n",
      "    \"last\": \"Aguilar\",\n",
      "    \"city\": \"Amytown\"\n",
      "  },\n",
      "  \"person_2\": {\n",
      "    \"first\": \"Deborah\",\n",
      "    \"last\": \"Phelps\",\n",
      "    \"city\": \"Reginaldstad\"\n",
      "  }\n",
      "}\n"
     ]
    }
   ],
   "source": [
    "people = {}\n",
    "for i in range(3):\n",
    "    people[f\"person_{i}\"] = {\n",
    "        \"first\": fake.first_name(),\n",
    "        \"last\": fake.last_name(),\n",
    "        \"city\": fake.city(),\n",
    "    }\n",
    "print(json.dumps(people, indent=2))\n"
   ]
  },
  {
   "cell_type": "code",
   "execution_count": 21,
   "metadata": {},
   "outputs": [
    {
     "data": {
      "text/plain": [
       "{'first': 'Deborah', 'last': 'Phelps', 'city': 'Reginaldstad'}"
      ]
     },
     "execution_count": 21,
     "metadata": {},
     "output_type": "execute_result"
    }
   ],
   "source": [
    "people[\"person_2\"]\n"
   ]
  },
  {
   "cell_type": "code",
   "execution_count": null,
   "metadata": {},
   "outputs": [],
   "source": []
  }
 ],
 "metadata": {
  "kernelspec": {
   "display_name": "Python 3",
   "language": "python",
   "name": "python3"
  },
  "language_info": {
   "codemirror_mode": {
    "name": "ipython",
    "version": 3
   },
   "file_extension": ".py",
   "mimetype": "text/x-python",
   "name": "python",
   "nbconvert_exporter": "python",
   "pygments_lexer": "ipython3",
   "version": "3.11.5"
  }
 },
 "nbformat": 4,
 "nbformat_minor": 4
}
