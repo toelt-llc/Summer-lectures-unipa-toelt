{
 "cells": [
  {
   "cell_type": "markdown",
   "metadata": {},
   "source": [
    "# List"
   ]
  },
  {
   "cell_type": "markdown",
   "metadata": {},
   "source": [
    "Lists are ordered & mutable collections of items\n",
    "* ordered: Lists are indexable, i.e., elements have a fixed order\n",
    "* mutable: Lists can be modified (add, remove) as well as elements itself can be modified\n",
    "\n",
    "List elements can have any type, e.g., `string`, `float`, `list`, ... and can be mixed freely\n",
    "\n",
    "Key property: List elements are directly accessible via an index (random access)"
   ]
  },
  {
   "cell_type": "markdown",
   "metadata": {},
   "source": [
    "### Lists are collections"
   ]
  },
  {
   "cell_type": "code",
   "execution_count": 1,
   "metadata": {},
   "outputs": [],
   "source": [
    "xs = [\"Alice\", \"Bob\", \"Eve\"]\n"
   ]
  },
  {
   "cell_type": "code",
   "execution_count": 2,
   "metadata": {},
   "outputs": [
    {
     "data": {
      "text/plain": [
       "list"
      ]
     },
     "execution_count": 2,
     "metadata": {},
     "output_type": "execute_result"
    }
   ],
   "source": [
    "type(xs)\n"
   ]
  },
  {
   "cell_type": "code",
   "execution_count": 3,
   "metadata": {},
   "outputs": [
    {
     "name": "stdout",
     "output_type": "stream",
     "text": [
      "Alice\n",
      "Bob\n",
      "Eve\n"
     ]
    }
   ],
   "source": [
    "for x in xs:\n",
    "    print(x)\n"
   ]
  },
  {
   "cell_type": "code",
   "execution_count": 4,
   "metadata": {},
   "outputs": [
    {
     "data": {
      "text/plain": [
       "'Alice'"
      ]
     },
     "execution_count": 4,
     "metadata": {},
     "output_type": "execute_result"
    }
   ],
   "source": [
    "xs[0]\n"
   ]
  },
  {
   "cell_type": "code",
   "execution_count": 5,
   "metadata": {},
   "outputs": [
    {
     "data": {
      "text/plain": [
       "['Alice', 'Bob']"
      ]
     },
     "execution_count": 5,
     "metadata": {},
     "output_type": "execute_result"
    }
   ],
   "source": [
    "xs[:2]\n"
   ]
  },
  {
   "cell_type": "code",
   "execution_count": 7,
   "metadata": {},
   "outputs": [
    {
     "data": {
      "text/plain": [
       "'Eve'"
      ]
     },
     "execution_count": 7,
     "metadata": {},
     "output_type": "execute_result"
    }
   ],
   "source": [
    "xs[-1]\n"
   ]
  },
  {
   "cell_type": "code",
   "execution_count": 8,
   "metadata": {},
   "outputs": [
    {
     "data": {
      "text/plain": [
       "1"
      ]
     },
     "execution_count": 8,
     "metadata": {},
     "output_type": "execute_result"
    }
   ],
   "source": [
    "xs.index(\"Bob\")\n"
   ]
  },
  {
   "cell_type": "code",
   "execution_count": 9,
   "metadata": {},
   "outputs": [
    {
     "data": {
      "text/plain": [
       "2"
      ]
     },
     "execution_count": 9,
     "metadata": {},
     "output_type": "execute_result"
    }
   ],
   "source": [
    "xs = [\"Alice\", \"Bob\", \"Eve\", \"Bob\"]\n",
    "xs.count(\"Bob\")\n"
   ]
  },
  {
   "cell_type": "markdown",
   "metadata": {},
   "source": [
    "### `in` opereator"
   ]
  },
  {
   "cell_type": "markdown",
   "metadata": {},
   "source": [
    "Pythonic way to test for membership\n",
    "\n",
    "Really just syntactic sugar for `__contains__()`"
   ]
  },
  {
   "cell_type": "code",
   "execution_count": 10,
   "metadata": {},
   "outputs": [
    {
     "data": {
      "text/plain": [
       "True"
      ]
     },
     "execution_count": 10,
     "metadata": {},
     "output_type": "execute_result"
    }
   ],
   "source": [
    "xs = [\"Alice\", \"Bob\", \"Eve\"]\n",
    "'Bob' in xs\n"
   ]
  },
  {
   "cell_type": "code",
   "execution_count": 16,
   "metadata": {},
   "outputs": [
    {
     "name": "stdout",
     "output_type": "stream",
     "text": [
      "False\n",
      "False\n"
     ]
    }
   ],
   "source": [
    "# careful: using`in` is not comparing recursively\n",
    "xs = [\"Alice\", \"Bob\", \"Eve\"]\n",
    "print([\"Alice\", \"Bob\"] in xs)\n",
    "print([\"Alice\", \"Bob\"] in [\"Alice\", \"Bob\", \"Eve\"])\n"
   ]
  },
  {
   "cell_type": "code",
   "execution_count": 17,
   "metadata": {},
   "outputs": [
    {
     "data": {
      "text/plain": [
       "True"
      ]
     },
     "execution_count": 17,
     "metadata": {},
     "output_type": "execute_result"
    }
   ],
   "source": [
    "\"Grace\" not in xs\n"
   ]
  },
  {
   "cell_type": "markdown",
   "metadata": {},
   "source": [
    "### Adding elements"
   ]
  },
  {
   "cell_type": "code",
   "execution_count": 19,
   "metadata": {},
   "outputs": [
    {
     "name": "stdout",
     "output_type": "stream",
     "text": [
      "2328062451904\n",
      "2328062451904\n"
     ]
    },
    {
     "data": {
      "text/plain": [
       "['Alice', 'Bob', 'Eve', 'Grace']"
      ]
     },
     "execution_count": 19,
     "metadata": {},
     "output_type": "execute_result"
    }
   ],
   "source": [
    "xs = [\"Alice\", \"Bob\", \"Eve\"]\n",
    "print(id(xs))\n",
    "xs += [\"Grace\"]\n",
    "print(id(xs))\n",
    "xs\n"
   ]
  },
  {
   "cell_type": "code",
   "execution_count": null,
   "metadata": {},
   "outputs": [],
   "source": []
  },
  {
   "cell_type": "code",
   "execution_count": 21,
   "metadata": {},
   "outputs": [
    {
     "data": {
      "text/plain": [
       "['Alice', 'Bob', 'Eve', 'Grace']"
      ]
     },
     "execution_count": 21,
     "metadata": {},
     "output_type": "execute_result"
    }
   ],
   "source": [
    "xs = [\"Alice\", \"Bob\", \"Eve\"]\n",
    "xs.append(\"Grace\")\n",
    "xs\n"
   ]
  },
  {
   "cell_type": "code",
   "execution_count": 25,
   "metadata": {},
   "outputs": [
    {
     "ename": "TypeError",
     "evalue": "list.append() takes exactly one argument (2 given)",
     "output_type": "error",
     "traceback": [
      "\u001b[1;31m---------------------------------------------------------------------------\u001b[0m",
      "\u001b[1;31mTypeError\u001b[0m                                 Traceback (most recent call last)",
      "\u001b[1;32mc:\\Users\\Michael\\Mega\\workbench\\hslu\\cas-ml2\\python_refresher\\notes\\07 Collections\\02 Lists.ipynb Cell 21\u001b[0m line \u001b[0;36m2\n\u001b[0;32m      <a href='vscode-notebook-cell:/c%3A/Users/Michael/Mega/workbench/hslu/cas-ml2/python_refresher/notes/07%20Collections/02%20Lists.ipynb#X25sZmlsZQ%3D%3D?line=0'>1</a>\u001b[0m xs \u001b[39m=\u001b[39m [\u001b[39m\"\u001b[39m\u001b[39mAlice\u001b[39m\u001b[39m\"\u001b[39m, \u001b[39m\"\u001b[39m\u001b[39mBob\u001b[39m\u001b[39m\"\u001b[39m, \u001b[39m\"\u001b[39m\u001b[39mEve\u001b[39m\u001b[39m\"\u001b[39m]\n\u001b[1;32m----> <a href='vscode-notebook-cell:/c%3A/Users/Michael/Mega/workbench/hslu/cas-ml2/python_refresher/notes/07%20Collections/02%20Lists.ipynb#X25sZmlsZQ%3D%3D?line=1'>2</a>\u001b[0m xs\u001b[39m.\u001b[39;49mappend(\u001b[39m\"\u001b[39;49m\u001b[39mHeidi\u001b[39;49m\u001b[39m\"\u001b[39;49m, \u001b[39m\"\u001b[39;49m\u001b[39mJudy\u001b[39;49m\u001b[39m\"\u001b[39;49m)\n\u001b[0;32m      <a href='vscode-notebook-cell:/c%3A/Users/Michael/Mega/workbench/hslu/cas-ml2/python_refresher/notes/07%20Collections/02%20Lists.ipynb#X25sZmlsZQ%3D%3D?line=2'>3</a>\u001b[0m xs\n",
      "\u001b[1;31mTypeError\u001b[0m: list.append() takes exactly one argument (2 given)"
     ]
    }
   ],
   "source": [
    "xs = [\"Alice\", \"Bob\", \"Eve\"]\n",
    "xs.append([\"Heidi\", \"Judy\"])\n",
    "xs\n"
   ]
  },
  {
   "cell_type": "code",
   "execution_count": 24,
   "metadata": {},
   "outputs": [
    {
     "data": {
      "text/plain": [
       "['Alice', 'Bob', 'Eve', 'Heidi', 'Judy']"
      ]
     },
     "execution_count": 24,
     "metadata": {},
     "output_type": "execute_result"
    }
   ],
   "source": [
    "# `append()` vs. `extend()`\n",
    "xs = [\"Alice\", \"Bob\", \"Eve\"]\n",
    "xs.extend([\"Heidi\", \"Judy\"])\n",
    "xs\n"
   ]
  },
  {
   "cell_type": "code",
   "execution_count": 26,
   "metadata": {},
   "outputs": [
    {
     "data": {
      "text/plain": [
       "['Alice', 'Bob', 'Grace', 'Eve']"
      ]
     },
     "execution_count": 26,
     "metadata": {},
     "output_type": "execute_result"
    }
   ],
   "source": [
    "xs = [\"Alice\", \"Bob\", \"Eve\"]\n",
    "xs.insert(2, \"Grace\")\n",
    "xs\n"
   ]
  },
  {
   "cell_type": "markdown",
   "metadata": {},
   "source": [
    "### Removing elements"
   ]
  },
  {
   "cell_type": "code",
   "execution_count": 27,
   "metadata": {},
   "outputs": [
    {
     "data": {
      "text/plain": [
       "['Alice', 'Eve']"
      ]
     },
     "execution_count": 27,
     "metadata": {},
     "output_type": "execute_result"
    }
   ],
   "source": [
    "xs = [\"Alice\", \"Bob\", \"Eve\"]\n",
    "xs.remove('Bob')\n",
    "xs\n"
   ]
  },
  {
   "cell_type": "code",
   "execution_count": 32,
   "metadata": {},
   "outputs": [
    {
     "name": "stdout",
     "output_type": "stream",
     "text": [
      "282 ns ± 50.1 ns per loop (mean ± std. dev. of 7 runs, 1,000,000 loops each)\n"
     ]
    }
   ],
   "source": [
    "def v1():\n",
    "    xs = [\"Alice\", \"Bob\", \"Eve\"]\n",
    "    xs.remove('Bob')\n",
    "\n",
    "def v2():\n",
    "    xs = [\"Alice\", \"Bob\", \"Eve\"]\n",
    "    del xs[1]\n",
    "\n",
    "\n",
    "%timeit v2()\n"
   ]
  },
  {
   "cell_type": "code",
   "execution_count": 28,
   "metadata": {},
   "outputs": [
    {
     "data": {
      "text/plain": [
       "['Alice', 'Eve']"
      ]
     },
     "execution_count": 28,
     "metadata": {},
     "output_type": "execute_result"
    }
   ],
   "source": [
    "xs = [\"Alice\", \"Bob\", \"Eve\"]\n",
    "del xs[1]\n",
    "xs\n"
   ]
  },
  {
   "cell_type": "code",
   "execution_count": 33,
   "metadata": {},
   "outputs": [
    {
     "data": {
      "text/plain": [
       "[]"
      ]
     },
     "execution_count": 33,
     "metadata": {},
     "output_type": "execute_result"
    }
   ],
   "source": [
    "xs.clear()\n",
    "xs\n"
   ]
  },
  {
   "cell_type": "markdown",
   "metadata": {},
   "source": [
    "### Replacing elements"
   ]
  },
  {
   "cell_type": "code",
   "execution_count": 35,
   "metadata": {},
   "outputs": [
    {
     "data": {
      "text/plain": [
       "['Alice', 'Bob', 'Grace']"
      ]
     },
     "execution_count": 35,
     "metadata": {},
     "output_type": "execute_result"
    }
   ],
   "source": [
    "xs = [\"Alice\", \"Bob\", \"Eve\"]\n",
    "xs[2] = \"Grace\"\n",
    "xs\n"
   ]
  },
  {
   "cell_type": "markdown",
   "metadata": {},
   "source": [
    "### Using lists as stacks"
   ]
  },
  {
   "cell_type": "code",
   "execution_count": 36,
   "metadata": {},
   "outputs": [
    {
     "name": "stdout",
     "output_type": "stream",
     "text": [
      "['Alice', 'Bob']\n",
      "['Alice']\n",
      "[]\n"
     ]
    }
   ],
   "source": [
    "xs = [\"Alice\", \"Bob\", \"Eve\"]\n",
    "xs.pop()\n",
    "print(xs)\n",
    "\n",
    "xs.pop()\n",
    "print(xs)\n",
    "\n",
    "xs.pop()\n",
    "print(xs)\n"
   ]
  },
  {
   "cell_type": "markdown",
   "metadata": {},
   "source": [
    "### Support for `min()` and `max()`"
   ]
  },
  {
   "cell_type": "code",
   "execution_count": 37,
   "metadata": {},
   "outputs": [
    {
     "name": "stdout",
     "output_type": "stream",
     "text": [
      "xs extrema: -42 , 36\n"
     ]
    }
   ],
   "source": [
    "xs = [11, -42, 36, 0]\n",
    "print(\"xs extrema:\", min(xs), \",\", max(xs))\n"
   ]
  },
  {
   "cell_type": "code",
   "execution_count": 38,
   "metadata": {},
   "outputs": [
    {
     "name": "stdout",
     "output_type": "stream",
     "text": [
      "ys extrema: Alice , Grace\n"
     ]
    }
   ],
   "source": [
    "xs = [\"Bob\", \"Grace\", \"Alice\", \"Eve\"]\n",
    "print(\"ys extrema:\", min(xs), \",\", max(xs))\n"
   ]
  },
  {
   "cell_type": "markdown",
   "metadata": {},
   "source": [
    "### Sorting lists: `sorted()` vs. `sort()`"
   ]
  },
  {
   "cell_type": "code",
   "execution_count": 39,
   "metadata": {},
   "outputs": [
    {
     "name": "stdout",
     "output_type": "stream",
     "text": [
      "xs:        ['Bob', 'Grace', 'Alice', 'Eve']\n",
      "sorted:    ['Alice', 'Bob', 'Eve', 'Grace']\n",
      "same list: False\n"
     ]
    }
   ],
   "source": [
    "# Copies the list\n",
    "xs = [\"Bob\", \"Grace\", \"Alice\", \"Eve\"]\n",
    "xs_sorted = sorted(xs)\n",
    "print(\"xs:       \", xs)\n",
    "print(\"sorted:   \", xs_sorted)\n",
    "print(\"same list:\", xs is xs_sorted)\n"
   ]
  },
  {
   "cell_type": "code",
   "execution_count": 42,
   "metadata": {},
   "outputs": [
    {
     "name": "stdout",
     "output_type": "stream",
     "text": [
      "None\n",
      "xs:      ['Grace', 'Eve', 'Bob', 'Alice']\n",
      "sorted:  None\n"
     ]
    }
   ],
   "source": [
    "# Operates in-place\n",
    "xs = [\"Bob\", \"Grace\", \"Alice\", \"Eve\"]\n",
    "# xs_sorted = xs.jsort()  # ! returns None\n",
    "print(xs.sort(reverse=True))\n",
    "\n",
    "print(\"xs:     \", xs)\n",
    "print(\"sorted: \", xs_sorted)\n"
   ]
  },
  {
   "cell_type": "markdown",
   "metadata": {},
   "source": [
    "### Constructing `list`s"
   ]
  },
  {
   "cell_type": "code",
   "execution_count": 45,
   "metadata": {},
   "outputs": [
    {
     "data": {
      "text/plain": [
       "['hello']"
      ]
     },
     "execution_count": 45,
     "metadata": {},
     "output_type": "execute_result"
    }
   ],
   "source": [
    "list([\"hello\"])\n"
   ]
  },
  {
   "cell_type": "code",
   "execution_count": 49,
   "metadata": {},
   "outputs": [
    {
     "data": {
      "text/plain": [
       "[1, 2, 3, 4]"
      ]
     },
     "execution_count": 49,
     "metadata": {},
     "output_type": "execute_result"
    }
   ],
   "source": [
    "# List from genereator (see below)\n",
    "list(range(1, 5))\n"
   ]
  },
  {
   "cell_type": "code",
   "execution_count": null,
   "metadata": {},
   "outputs": [],
   "source": [
    "# `range` also knows from:to:step semantics, just like slicing\n",
    "list(range(2, 10, 3))\n"
   ]
  },
  {
   "cell_type": "code",
   "execution_count": 50,
   "metadata": {},
   "outputs": [
    {
     "name": "stdout",
     "output_type": "stream",
     "text": [
      "2\n",
      "5\n",
      "8\n"
     ]
    }
   ],
   "source": [
    "for i in range(2, 10, 3):\n",
    "    print(i)\n"
   ]
  },
  {
   "cell_type": "markdown",
   "metadata": {},
   "source": [
    "### Copying lists\n",
    "\n",
    "Always double-check whether the copy is shallow or deep.\n",
    "\n",
    "##### Shallow copies\n",
    "A shallow copy creates a new list containing references to the same elements held by the original list. For example:\n",
    "\n",
    "```python\n",
    "xs1 = [\"Bob\", \"Alice\"]\n",
    "\n",
    "xs2 = xs1.copy()  # using copy() method\n",
    "\n",
    "# or\n",
    "xs2 = list(xs1)  # using list() method\n",
    "\n",
    "# or\n",
    "xs2 = xs1[:]  # using slicing\n",
    "```\n",
    "\n",
    "##### Deep copies\n",
    "A deep copy creates a new list and recursively adds copies of the elements of the original list to it. \n",
    "\n",
    "Therefore, changes to the original list will not affect the copied list and vice versa. For example:\n",
    "\n",
    "```python\n",
    "import copy\n",
    "xs1 = [\"Bob\", \"Alice\"]\n",
    "xs3 = copy.deepcopy(xs1)\n",
    "```"
   ]
  },
  {
   "cell_type": "markdown",
   "metadata": {},
   "source": [
    "##### Example: Mutability of `list` elements\n",
    "Difference shallow/deep copying only relevant for mutable objects stored in lists (e.g., list of lists)"
   ]
  },
  {
   "cell_type": "markdown",
   "metadata": {},
   "source": [
    "**Case 1: List with immutable objects (e.g. strings) => no surprises**\n"
   ]
  },
  {
   "cell_type": "code",
   "execution_count": 51,
   "metadata": {},
   "outputs": [
    {
     "name": "stdout",
     "output_type": "stream",
     "text": [
      "xs1: ['Bob', 'Alice']\n",
      "xs2: ['Bob', 'Alice']\n",
      "Same elems (after copy): True\n",
      "Same list objs (after copy): False\n",
      "--- modifying xs2 => xs1 unaffected\n",
      "xs1: ['Bob', 'Alice']\n",
      "xs2: ['Bob', 'Heidi']\n"
     ]
    }
   ],
   "source": [
    "xs1 = [\"Bob\", \"Alice\"]\n",
    "print(\"xs1:\", xs1)\n",
    "\n",
    "xs2 = xs1[:]  # shallow\n",
    "print(\"xs2:\", xs2)\n",
    "\n",
    "print(\"Same elems (after copy):\", xs1 == xs2)\n",
    "print(\"Same list objs (after copy):\", xs1 is xs2)\n",
    "\n",
    "print(\"--- modifying xs2 => xs1 unaffected\")\n",
    "\n",
    "xs2[1] = \"Heidi\"\n",
    "print(\"xs1:\", xs1)\n",
    "print(\"xs2:\", xs2)\n"
   ]
  },
  {
   "cell_type": "markdown",
   "metadata": {},
   "source": [
    "**Case 2: List with mutable objects (e.g. lists) => careful**"
   ]
  },
  {
   "cell_type": "code",
   "execution_count": 52,
   "metadata": {},
   "outputs": [
    {
     "name": "stdout",
     "output_type": "stream",
     "text": [
      "xs1: ['Eve', ['Bob', 'Grace']]\n",
      "xs2: ['Eve', ['Bob', 'Grace']]\n",
      "Same elems (after copy): True\n",
      "--- modifying element in xs2 => xs1 affected (!)\n",
      "xs1: ['Eve', ['John', 'Grace']]\n",
      "xs2: ['Eve', ['John', 'Grace']]\n"
     ]
    }
   ],
   "source": [
    "xs1 = [\"Eve\", [\"Bob\", \"Grace\"]]\n",
    "print(\"xs1:\", xs1)\n",
    "\n",
    "xs2 = xs1[:]  # shallow\n",
    "print(\"xs2:\", xs2)\n",
    "\n",
    "print(\"Same elems (after copy):\", xs1 == xs2)\n",
    "\n",
    "print(\"--- modifying element in xs2 => xs1 affected (!)\")\n",
    "\n",
    "xs2[1][0] = \"John\"\n",
    "print(\"xs1:\", xs1)\n",
    "print(\"xs2:\", xs2)\n"
   ]
  },
  {
   "cell_type": "code",
   "execution_count": null,
   "metadata": {},
   "outputs": [],
   "source": []
  }
 ],
 "metadata": {
  "kernelspec": {
   "display_name": "Python 3",
   "language": "python",
   "name": "python3"
  },
  "language_info": {
   "codemirror_mode": {
    "name": "ipython",
    "version": 3
   },
   "file_extension": ".py",
   "mimetype": "text/x-python",
   "name": "python",
   "nbconvert_exporter": "python",
   "pygments_lexer": "ipython3",
   "version": "3.11.5"
  }
 },
 "nbformat": 4,
 "nbformat_minor": 4
}
