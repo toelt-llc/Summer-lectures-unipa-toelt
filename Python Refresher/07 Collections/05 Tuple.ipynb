{
 "cells": [
  {
   "cell_type": "markdown",
   "metadata": {},
   "source": [
    "# Tuple\n"
   ]
  },
  {
   "cell_type": "markdown",
   "metadata": {},
   "source": [
    "Ordered, immutable collection\n",
    "\n",
    "\"Like a list, but cannot be modified once created\"\n"
   ]
  },
  {
   "cell_type": "code",
   "execution_count": 1,
   "metadata": {},
   "outputs": [
    {
     "name": "stdout",
     "output_type": "stream",
     "text": [
      "(3, 4, 5)\n",
      "(3, 4, 5)\n",
      "same elems: True\n",
      "same objs:  False\n"
     ]
    }
   ],
   "source": [
    "xs1 = (3, 4, 5)  # DO\n",
    "print(xs1)\n",
    "\n",
    "xs2 = tuple([3, 4, 5])  # DON'T\n",
    "print(xs2)\n",
    "\n",
    "print(\"same elems:\", xs1 == xs2)\n",
    "print(\"same objs: \", xs1 is xs2)\n"
   ]
  },
  {
   "cell_type": "markdown",
   "metadata": {},
   "source": [
    "### Comparison to lists\n",
    "\n",
    "Tuples are immutable: once created, content cannot be changed $\\Rightarrow$ tuples do not support these eight list methods:\n",
    "\n",
    "- `append()`: addition of single element\n",
    "- `extend()`: addition of collection's content\n",
    "- `insert()`: insertion of single element at specified position\n",
    "- `remove()`: removal of first item with the specified value\n",
    "- `pop()`: removal of element at specified position\n",
    "- `clear()`: removal of all elements\n",
    "- `sort()`: in-place sort\n",
    "- `reverse()`: in-place order reversal\n",
    "\n",
    "Other ops supported:\n"
   ]
  },
  {
   "cell_type": "code",
   "execution_count": 2,
   "metadata": {},
   "outputs": [
    {
     "data": {
      "text/plain": [
       "9"
      ]
     },
     "execution_count": 2,
     "metadata": {},
     "output_type": "execute_result"
    }
   ],
   "source": [
    "xs = (3, 4, 5, 9, 10)\n",
    "xs[-2]\n"
   ]
  },
  {
   "cell_type": "code",
   "execution_count": 3,
   "metadata": {},
   "outputs": [
    {
     "data": {
      "text/plain": [
       "4"
      ]
     },
     "execution_count": 3,
     "metadata": {},
     "output_type": "execute_result"
    }
   ],
   "source": [
    "xs.index(10)\n"
   ]
  },
  {
   "cell_type": "code",
   "execution_count": 4,
   "metadata": {},
   "outputs": [
    {
     "data": {
      "text/plain": [
       "(10, 9, 5, 4, 3)"
      ]
     },
     "execution_count": 4,
     "metadata": {},
     "output_type": "execute_result"
    }
   ],
   "source": [
    "xs[::-1]\n"
   ]
  },
  {
   "cell_type": "code",
   "execution_count": 7,
   "metadata": {},
   "outputs": [
    {
     "data": {
      "text/plain": [
       "[3, 4, 5, 9, 10]"
      ]
     },
     "execution_count": 7,
     "metadata": {},
     "output_type": "execute_result"
    }
   ],
   "source": [
    "sorted(xs)\n"
   ]
  },
  {
   "cell_type": "markdown",
   "metadata": {},
   "source": [
    "### Two edge cases\n",
    "\n",
    "Occuring due to syntactic ambiguity when a `tuple` contains 0 or 1 element(s)\n"
   ]
  },
  {
   "cell_type": "code",
   "execution_count": 8,
   "metadata": {},
   "outputs": [
    {
     "name": "stdout",
     "output_type": "stream",
     "text": [
      "2\n"
     ]
    }
   ],
   "source": [
    "# Create a 1-tuple\n",
    "xs = 2\n",
    "print(xs)\n"
   ]
  },
  {
   "cell_type": "code",
   "execution_count": 9,
   "metadata": {},
   "outputs": [
    {
     "data": {
      "text/plain": [
       "int"
      ]
     },
     "execution_count": 9,
     "metadata": {},
     "output_type": "execute_result"
    }
   ],
   "source": [
    "# So xs is a tuple, or not?\n",
    "type(xs)\n"
   ]
  },
  {
   "cell_type": "code",
   "execution_count": 10,
   "metadata": {},
   "outputs": [
    {
     "name": "stdout",
     "output_type": "stream",
     "text": [
      "(2,)\n",
      "<class 'tuple'>\n"
     ]
    }
   ],
   "source": [
    "# Remember: 1-tuples require a comma after the value\n",
    "xs = (2,)\n",
    "print(xs)\n",
    "print(type(xs))\n"
   ]
  },
  {
   "cell_type": "code",
   "execution_count": 14,
   "metadata": {},
   "outputs": [
    {
     "name": "stdout",
     "output_type": "stream",
     "text": [
      "()\n",
      "<class 'tuple'>\n"
     ]
    }
   ],
   "source": [
    "# However, empty tuples must not use a comma\n",
    "xs = ()\n",
    "print(xs)\n",
    "print(type(xs))\n"
   ]
  },
  {
   "cell_type": "markdown",
   "metadata": {},
   "source": [
    "## Tuple unpacking\n",
    "\n",
    "Idea is to assign variables to tuple elements\n",
    "\n",
    "Underlying mechanism to receive multiple return values from a function\n"
   ]
  },
  {
   "cell_type": "code",
   "execution_count": 15,
   "metadata": {},
   "outputs": [
    {
     "data": {
      "text/plain": [
       "tuple"
      ]
     },
     "execution_count": 15,
     "metadata": {},
     "output_type": "execute_result"
    }
   ],
   "source": [
    "# tuple storing drink properties: (type, price in chf, serving size, origin, producer)\n",
    "xs = (\"Draft beer\", 6.5, 473, \"Ireland\", \"Murphy's\")\n",
    "type(xs)\n"
   ]
  },
  {
   "cell_type": "code",
   "execution_count": 18,
   "metadata": {},
   "outputs": [
    {
     "name": "stdout",
     "output_type": "stream",
     "text": [
      "Draft beer .................... CHF 473.00\n"
     ]
    }
   ],
   "source": [
    "# Unpacking: number of vars must match tuple length\n",
    "tpe, price, size,  origin, producer = xs\n",
    "print(f\"{tpe} {'.'*(30 - len(tpe))} CHF {price:.2f}\")\n"
   ]
  },
  {
   "cell_type": "code",
   "execution_count": 20,
   "metadata": {},
   "outputs": [
    {
     "name": "stdout",
     "output_type": "stream",
     "text": [
      "Draft beer\n",
      "6.5\n",
      "[473, 'Ireland', \"Murphy's\"]   <-- Note: rest has type <class 'list'>\n"
     ]
    }
   ],
   "source": [
    "# Partial unpacking\n",
    "tpe, price, *rest = xs\n",
    "print(tpe)\n",
    "print(price)\n",
    "print(rest, f\"  <-- Note: rest has type {type(rest)}\")\n"
   ]
  },
  {
   "cell_type": "markdown",
   "metadata": {},
   "source": [
    "### `zip` operation\n",
    "\n",
    "Transforms $n \\geq 2$ collections into a single collection of $n$-tuples\n",
    "\n",
    "Length of output collection is equal to length of shortest input collection\n",
    "\n",
    "Note:\n",
    "\n",
    "- Result is returned as an iterator and not a collection (see later)\n",
    "- Just use `tuple(it)` or `list(it)` to turn an iterator `it` into a collection\n"
   ]
  },
  {
   "cell_type": "code",
   "execution_count": 21,
   "metadata": {},
   "outputs": [
    {
     "data": {
      "text/plain": [
       "((3, 10), (4, 20), (5, 30))"
      ]
     },
     "execution_count": 21,
     "metadata": {},
     "output_type": "execute_result"
    }
   ],
   "source": [
    "# case n=2\n",
    "a = (3, 4, 5)\n",
    "b = (10, 20, 30)\n",
    "tuple(zip(a, b))\n"
   ]
  },
  {
   "cell_type": "code",
   "execution_count": 23,
   "metadata": {},
   "outputs": [
    {
     "data": {
      "text/plain": [
       "((3, 10, -6), (4, 20, -7), (5, 30, -8))"
      ]
     },
     "execution_count": 23,
     "metadata": {},
     "output_type": "execute_result"
    }
   ],
   "source": [
    "# case n=3\n",
    "a = (3, 4, 5)\n",
    "b = (10, 20, 30)\n",
    "c = (-6, -7, -8, -9, -10, -11, -12)\n",
    "tuple(zip(a, b, c))\n"
   ]
  },
  {
   "cell_type": "code",
   "execution_count": 25,
   "metadata": {},
   "outputs": [
    {
     "data": {
      "text/plain": [
       "[(3, 10), (4, 20), (5, 30)]"
      ]
     },
     "execution_count": 25,
     "metadata": {},
     "output_type": "execute_result"
    }
   ],
   "source": [
    "# identical behavior with lists\n",
    "a = [3, 4, 5]\n",
    "b = (10, 20, 30)\n",
    "list(zip(a, b))\n"
   ]
  },
  {
   "cell_type": "code",
   "execution_count": null,
   "metadata": {},
   "outputs": [],
   "source": []
  }
 ],
 "metadata": {
  "kernelspec": {
   "display_name": "Python 3",
   "language": "python",
   "name": "python3"
  },
  "language_info": {
   "codemirror_mode": {
    "name": "ipython",
    "version": 3
   },
   "file_extension": ".py",
   "mimetype": "text/x-python",
   "name": "python",
   "nbconvert_exporter": "python",
   "pygments_lexer": "ipython3",
   "version": "3.11.5"
  }
 },
 "nbformat": 4,
 "nbformat_minor": 4
}
